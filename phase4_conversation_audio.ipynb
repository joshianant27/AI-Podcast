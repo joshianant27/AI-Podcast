{
 "cells": [
  {
   "cell_type": "code",
   "execution_count": 2,
   "id": "1bc272ac",
   "metadata": {},
   "outputs": [],
   "source": [
    "from dotenv import load_dotenv\n",
    "import os\n",
    "from elevenlabs.client import ElevenLabs\n",
    "from elevenlabs import play\n",
    "from IPython.display import Audio\n",
    "import time\n",
    "import io\n",
    "from elevenlabs import ElevenLabs\n",
    "from pydub import AudioSegment\n",
    "from pydub.playback import play\n",
    "from elevenlabs import ElevenLabs"
   ]
  },
  {
   "cell_type": "code",
   "execution_count": null,
   "id": "c5597060",
   "metadata": {},
   "outputs": [],
   "source": [
    "# \"Alex\", \"Hey there, excited to be discussing aviation history today! It's been quite an interesting development since the Wright brothers' first sustained flight in 1903 when powered flights became possible.\"\n",
    "# Jordan: Absolutely fascinating stuff. Speaking of powered flights, let's dive into the pivotal role airplanes played during WWI. Can you share your thoughts on how the introduction of planes influenced warfare strategies?\n",
    "# Alex: Well, as we've discussed, the Battle of Jutland showcased British naval supremacy on the North Sea. How did the use of planes impact this battle and overall maritime warfare tactics?\n",
    "# Jordan: In terms of the actual usage of machines guns on planes for the first time in June 1912, what was the primary reason behind these modifications? What made the US decide to invest in armoring their aircraft instead of focusing solely on heavier engines or more powerful weapons?\n",
    "# Alex: That's a great point. Did the introduction of machine guns on planes change the dynamics of aerial combat significantly? If so, how did the new technology affect pilots and commanders alike?\n",
    "# Jordan: Before we wrap up this topic, could you shed some light on the development of the first two-engine bomber in 1915 by Handley-Page? Was this a significant milestone in the evolution of military aviation, and if so, what implications did it have on future conflicts?\n",
    "# Alex: That's a fantastic conclusion to our discussion. The Handley-Page HP O/400 was the first commercially successful bomber designed for strategic airpower. It showcased significant technological advancements and laid the groundwork for further developments in aviation technology over the next few decades. Thanks for joining me today!\n",
    "# Jordan: Likewise, thanks for sharing such insightful information about the history of aviation and its influence on modern warfare strategies. Your conversation flowed naturally and kept the audience engaged throughout. Great job!"
   ]
  },
  {
   "cell_type": "code",
   "execution_count": 4,
   "id": "289c2812",
   "metadata": {},
   "outputs": [],
   "source": [
    "voice_map = {\n",
    "    \"Alex\": \"EXAVITQu4vr4xnSDxMaL\",\n",
    "    \"Jordan\": \"JBFqnCBsd6RMkjVDRZzb\",\n",
    "}\n",
    "\n",
    "client = ElevenLabs(api_key='sk_762dfbe6059bb3a486640372d805c159f745501c89f0a136')  \n",
    "\n",
    "# script = [\n",
    "#     (\"Alice\", \"I am so hungry\"),\n",
    "#     (\"Bob\", \"Me too, what would you like to eat?\"),\n",
    "#     (\"Alice\", \"Sushi sounds good !!\"),\n",
    "#     (\"Bob\", \"I don't want sushi. Can we get pizza instead?\"),\n",
    "# ]\n",
    "\n",
    "script = [\n",
    "    (\"Alex\", \"Hey there, excited to be discussing aviation history today! It's been quite an interesting development since the Wright brothers' first sustained flight in 1903 when powered flights became possible.\"),\n",
    "    (\"Jordan\", \"Absolutely fascinating stuff. Speaking of powered flights, let's dive into the pivotal role airplanes played during WWI. Can you share your thoughts on how the introduction of planes influenced warfare strategies?\"),\n",
    "    (\"Alex\", \"Well, as we've discussed, the Battle of Jutland showcased British naval supremacy on the North Sea. How did the use of planes impact this battle and overall maritime warfare tactics?\"),\n",
    "    (\"Jordan\", \"In terms of the actual usage of machine guns on planes for the first time in June 1912, what was the primary reason behind these modifications? What made the US decide to invest in armoring their aircraft instead of focusing solely on heavier engines or more powerful weapons?\"),\n",
    "    (\"Alex\", \"That's a great point. Did the introduction of machine guns on planes change the dynamics of aerial combat significantly? If so, how did the new technology affect pilots and commanders alike?\"),\n",
    "    (\"Jordan\", \"Before we wrap up this topic, could you shed some light on the development of the first two-engine bomber in 1915 by Handley-Page? Was this a significant milestone in the evolution of military aviation, and if so, what implications did it have on future conflicts?\"),\n",
    "    (\"Alex\", \"That's a fantastic conclusion to our discussion. The Handley-Page HP O/400 was the first commercially successful bomber designed for strategic airpower. It showcased significant technological advancements and laid the groundwork for further developments in aviation technology over the next few decades. Thanks for joining me today!\"),\n",
    "    (\"Jordan\", \"Likewise, thanks for sharing such insightful information about the history of aviation and its influence on modern warfare strategies. Your conversation flowed naturally and kept the audience engaged throughout. Great job!\")\n",
    "]\n",
    "\n",
    "audio_segments = []\n",
    "\n",
    "for speaker, line in script:\n",
    "    audio_generator = client.text_to_speech.convert(\n",
    "        text=line,\n",
    "        voice_id=voice_map[speaker],\n",
    "        model_id=\"eleven_multilingual_v2\",\n",
    "        output_format=\"mp3_44100_128\"\n",
    "    )\n",
    "\n",
    "\n",
    "    audio_bytes = b\"\".join(audio_generator)\n",
    "\n",
    "\n",
    "    audio_file = io.BytesIO(audio_bytes)\n",
    "    segment = AudioSegment.from_file(audio_file, format=\"mp3\")\n",
    "    audio_segments.append(segment)\n",
    "\n",
    "\n",
    "for segment in audio_segments:\n",
    "    play(segment)"
   ]
  },
  {
   "cell_type": "code",
   "execution_count": 8,
   "id": "0a7f15a4",
   "metadata": {},
   "outputs": [
    {
     "name": "stdout",
     "output_type": "stream",
     "text": [
      "Collecting simpleaudio\n",
      "  Downloading simpleaudio-1.0.4.tar.gz (2.0 MB)\n",
      "\u001b[2K     \u001b[90m━━━━━━━━━━━━━━━━━━━━━━━━━━━━━━━━━━━━━━━━\u001b[0m \u001b[32m2.0/2.0 MB\u001b[0m \u001b[31m16.0 MB/s\u001b[0m eta \u001b[36m0:00:00\u001b[0ma \u001b[36m0:00:01\u001b[0m\n",
      "\u001b[?25h  Preparing metadata (setup.py) ... \u001b[?25ldone\n",
      "\u001b[?25hBuilding wheels for collected packages: simpleaudio\n",
      "  Building wheel for simpleaudio (setup.py) ... \u001b[?25ldone\n",
      "\u001b[?25h  Created wheel for simpleaudio: filename=simpleaudio-1.0.4-cp39-cp39-macosx_10_9_x86_64.whl size=2035950 sha256=a3d6400cf61741b70ac7840cc5c958b92b252fe9156d1350884be1ba9b39bac6\n",
      "  Stored in directory: /Users/chaksmishra/Library/Caches/pip/wheels/9e/98/21/6774fbadaeb379c6823dacb09d41a7b5057d72f6f732897358\n",
      "Successfully built simpleaudio\n",
      "Installing collected packages: simpleaudio\n",
      "Successfully installed simpleaudio-1.0.4\n",
      "Note: you may need to restart the kernel to use updated packages.\n"
     ]
    }
   ],
   "source": [
    "pip install simpleaudio"
   ]
  },
  {
   "cell_type": "code",
   "execution_count": 13,
   "id": "606392fb",
   "metadata": {},
   "outputs": [
    {
     "name": "stdout",
     "output_type": "stream",
     "text": [
      "Python: /Users/chaksmishra/opt/anaconda3/envs/BigData/bin/python\n",
      "ffprobe seen as: /opt/homebrew/bin/ffprobe\n",
      "ffmpeg seen as: /opt/homebrew/bin/ffmpeg\n",
      "PATH: /Users/chaksmishra/opt/anaconda3/envs/BigData/bin:/Users/chaksmishra/opt/anaconda3/condabin:/usr/bin:/bin:/usr/sbin:/sbin:/usr/local/bin:/opt/homebrew/bin\n"
     ]
    }
   ],
   "source": [
    "import shutil, os, sys\n",
    "print(\"Python:\", sys.executable)\n",
    "print(\"ffprobe seen as:\", shutil.which(\"ffprobe\"))\n",
    "print(\"ffmpeg seen as:\", shutil.which(\"ffmpeg\"))\n",
    "print(\"PATH:\", os.environ.get(\"PATH\"))"
   ]
  },
  {
   "cell_type": "code",
   "execution_count": 12,
   "id": "ec1ae926",
   "metadata": {},
   "outputs": [],
   "source": [
    "import os\n",
    "from pydub import AudioSegment\n",
    "from pydub.utils import which\n",
    "\n",
    "# If you know the exact paths, set them explicitly:\n",
    "AudioSegment.ffprobe = \"/opt/homebrew/bin/ffprobe\"   # adjust if Intel: /usr/local/bin/ffprobe\n",
    "AudioSegment.converter = \"/opt/homebrew/bin/ffmpeg\"  # pydub uses this for decoding\n",
    "\n",
    "# Optional: also add to PATH for subprocesses\n",
    "os.environ[\"PATH\"] += os.pathsep + \"/opt/homebrew/bin\"\n",
    "\n",
    "# Or if you prefer using which() after fixing PATH:\n",
    "# AudioSegment.ffprobe = which(\"ffprobe\")\n",
    "# AudioSegment.converter = which(\"ffmpeg\")"
   ]
  },
  {
   "cell_type": "code",
   "execution_count": null,
   "id": "fb7bb07b",
   "metadata": {},
   "outputs": [],
   "source": []
  }
 ],
 "metadata": {
  "kernelspec": {
   "display_name": "BigData",
   "language": "python",
   "name": "python3"
  },
  "language_info": {
   "codemirror_mode": {
    "name": "ipython",
    "version": 3
   },
   "file_extension": ".py",
   "mimetype": "text/x-python",
   "name": "python",
   "nbconvert_exporter": "python",
   "pygments_lexer": "ipython3",
   "version": "3.9.15"
  }
 },
 "nbformat": 4,
 "nbformat_minor": 5
}
