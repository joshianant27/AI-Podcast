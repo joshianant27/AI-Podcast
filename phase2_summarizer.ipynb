{
 "cells": [
  {
   "cell_type": "code",
   "execution_count": 1,
   "metadata": {},
   "outputs": [
    {
     "name": "stdout",
     "output_type": "stream",
     "text": [
      "Requirement already satisfied: ipywidgets in c:\\python310\\scg_64\\lib\\site-packages (8.1.7)\n",
      "Requirement already satisfied: notebook in c:\\python310\\scg_64\\lib\\site-packages (7.4.4)\n",
      "Requirement already satisfied: tqdm in c:\\python310\\scg_64\\lib\\site-packages (4.67.1)\n",
      "Requirement already satisfied: jupyterlab_widgets~=3.0.15 in c:\\python310\\scg_64\\lib\\site-packages (from ipywidgets) (3.0.15)\n",
      "Requirement already satisfied: widgetsnbextension~=4.0.14 in c:\\python310\\scg_64\\lib\\site-packages (from ipywidgets) (4.0.14)\n",
      "Requirement already satisfied: traitlets>=4.3.1 in c:\\users\\joshi\\appdata\\roaming\\python\\python310\\site-packages (from ipywidgets) (5.14.3)\n",
      "Requirement already satisfied: comm>=0.1.3 in c:\\users\\joshi\\appdata\\roaming\\python\\python310\\site-packages (from ipywidgets) (0.2.3)\n",
      "Requirement already satisfied: ipython>=6.1.0 in c:\\users\\joshi\\appdata\\roaming\\python\\python310\\site-packages (from ipywidgets) (8.37.0)\n",
      "Requirement already satisfied: jupyter-server<3,>=2.4.0 in c:\\python310\\scg_64\\lib\\site-packages (from notebook) (2.16.0)\n",
      "Requirement already satisfied: jupyterlab<4.5,>=4.4.4 in c:\\python310\\scg_64\\lib\\site-packages (from notebook) (4.4.5)\n",
      "Requirement already satisfied: notebook-shim<0.3,>=0.2 in c:\\python310\\scg_64\\lib\\site-packages (from notebook) (0.2.4)\n",
      "Requirement already satisfied: tornado>=6.2.0 in c:\\users\\joshi\\appdata\\roaming\\python\\python310\\site-packages (from notebook) (6.5.1)\n",
      "Requirement already satisfied: jupyterlab-server<3,>=2.27.1 in c:\\python310\\scg_64\\lib\\site-packages (from notebook) (2.27.3)\n",
      "Requirement already satisfied: colorama in c:\\python310\\scg_64\\lib\\site-packages (from tqdm) (0.4.6)\n",
      "Requirement already satisfied: jedi>=0.16 in c:\\users\\joshi\\appdata\\roaming\\python\\python310\\site-packages (from ipython>=6.1.0->ipywidgets) (0.19.2)\n",
      "Requirement already satisfied: matplotlib-inline in c:\\users\\joshi\\appdata\\roaming\\python\\python310\\site-packages (from ipython>=6.1.0->ipywidgets) (0.1.7)\n",
      "Requirement already satisfied: decorator in c:\\users\\joshi\\appdata\\roaming\\python\\python310\\site-packages (from ipython>=6.1.0->ipywidgets) (5.2.1)\n",
      "Requirement already satisfied: stack_data in c:\\users\\joshi\\appdata\\roaming\\python\\python310\\site-packages (from ipython>=6.1.0->ipywidgets) (0.6.3)\n",
      "Requirement already satisfied: typing_extensions>=4.6 in c:\\python310\\scg_64\\lib\\site-packages (from ipython>=6.1.0->ipywidgets) (4.14.1)\n",
      "Requirement already satisfied: pygments>=2.4.0 in c:\\users\\joshi\\appdata\\roaming\\python\\python310\\site-packages (from ipython>=6.1.0->ipywidgets) (2.19.2)\n",
      "Requirement already satisfied: prompt_toolkit<3.1.0,>=3.0.41 in c:\\users\\joshi\\appdata\\roaming\\python\\python310\\site-packages (from ipython>=6.1.0->ipywidgets) (3.0.51)\n",
      "Requirement already satisfied: exceptiongroup in c:\\users\\joshi\\appdata\\roaming\\python\\python310\\site-packages (from ipython>=6.1.0->ipywidgets) (1.3.0)\n",
      "Requirement already satisfied: send2trash>=1.8.2 in c:\\python310\\scg_64\\lib\\site-packages (from jupyter-server<3,>=2.4.0->notebook) (1.8.3)\n",
      "Requirement already satisfied: jupyter-client>=7.4.4 in c:\\users\\joshi\\appdata\\roaming\\python\\python310\\site-packages (from jupyter-server<3,>=2.4.0->notebook) (8.6.3)\n",
      "Requirement already satisfied: anyio>=3.1.0 in c:\\python310\\scg_64\\lib\\site-packages (from jupyter-server<3,>=2.4.0->notebook) (4.9.0)\n",
      "Requirement already satisfied: pyzmq>=24 in c:\\users\\joshi\\appdata\\roaming\\python\\python310\\site-packages (from jupyter-server<3,>=2.4.0->notebook) (27.0.0)\n",
      "Requirement already satisfied: jupyter-events>=0.11.0 in c:\\python310\\scg_64\\lib\\site-packages (from jupyter-server<3,>=2.4.0->notebook) (0.12.0)\n",
      "Requirement already satisfied: prometheus-client>=0.9 in c:\\python310\\scg_64\\lib\\site-packages (from jupyter-server<3,>=2.4.0->notebook) (0.22.1)\n",
      "Requirement already satisfied: argon2-cffi>=21.1 in c:\\python310\\scg_64\\lib\\site-packages (from jupyter-server<3,>=2.4.0->notebook) (25.1.0)\n",
      "Requirement already satisfied: jupyter-server-terminals>=0.4.4 in c:\\python310\\scg_64\\lib\\site-packages (from jupyter-server<3,>=2.4.0->notebook) (0.5.3)\n",
      "Requirement already satisfied: packaging>=22.0 in c:\\python310\\scg_64\\lib\\site-packages (from jupyter-server<3,>=2.4.0->notebook) (24.0)\n",
      "Requirement already satisfied: pywinpty>=2.0.1 in c:\\python310\\scg_64\\lib\\site-packages (from jupyter-server<3,>=2.4.0->notebook) (2.0.15)\n",
      "Requirement already satisfied: jupyter-core!=5.0.*,>=4.12 in c:\\users\\joshi\\appdata\\roaming\\python\\python310\\site-packages (from jupyter-server<3,>=2.4.0->notebook) (5.8.1)\n",
      "Requirement already satisfied: overrides>=5.0 in c:\\python310\\scg_64\\lib\\site-packages (from jupyter-server<3,>=2.4.0->notebook) (7.7.0)\n",
      "Requirement already satisfied: jinja2>=3.0.3 in c:\\python310\\scg_64\\lib\\site-packages (from jupyter-server<3,>=2.4.0->notebook) (3.1.4)\n",
      "Requirement already satisfied: nbconvert>=6.4.4 in c:\\python310\\scg_64\\lib\\site-packages (from jupyter-server<3,>=2.4.0->notebook) (7.16.6)\n",
      "Requirement already satisfied: terminado>=0.8.3 in c:\\python310\\scg_64\\lib\\site-packages (from jupyter-server<3,>=2.4.0->notebook) (0.18.1)\n",
      "Requirement already satisfied: websocket-client>=1.7 in c:\\python310\\scg_64\\lib\\site-packages (from jupyter-server<3,>=2.4.0->notebook) (1.8.0)\n",
      "Requirement already satisfied: nbformat>=5.3.0 in c:\\python310\\scg_64\\lib\\site-packages (from jupyter-server<3,>=2.4.0->notebook) (5.10.4)\n",
      "Requirement already satisfied: setuptools>=41.1.0 in c:\\python310\\scg_64\\lib\\site-packages (from jupyterlab<4.5,>=4.4.4->notebook) (58.1.0)\n",
      "Requirement already satisfied: tomli>=1.2.2 in c:\\python310\\scg_64\\lib\\site-packages (from jupyterlab<4.5,>=4.4.4->notebook) (2.2.1)\n",
      "Requirement already satisfied: async-lru>=1.0.0 in c:\\python310\\scg_64\\lib\\site-packages (from jupyterlab<4.5,>=4.4.4->notebook) (2.0.5)\n",
      "Requirement already satisfied: ipykernel>=6.5.0 in c:\\users\\joshi\\appdata\\roaming\\python\\python310\\site-packages (from jupyterlab<4.5,>=4.4.4->notebook) (6.30.0)\n",
      "Requirement already satisfied: httpx>=0.25.0 in c:\\python310\\scg_64\\lib\\site-packages (from jupyterlab<4.5,>=4.4.4->notebook) (0.28.1)\n",
      "Requirement already satisfied: jupyter-lsp>=2.0.0 in c:\\python310\\scg_64\\lib\\site-packages (from jupyterlab<4.5,>=4.4.4->notebook) (2.2.6)\n",
      "Requirement already satisfied: jsonschema>=4.18.0 in c:\\python310\\scg_64\\lib\\site-packages (from jupyterlab-server<3,>=2.27.1->notebook) (4.25.0)\n",
      "Requirement already satisfied: json5>=0.9.0 in c:\\python310\\scg_64\\lib\\site-packages (from jupyterlab-server<3,>=2.27.1->notebook) (0.12.0)\n",
      "Requirement already satisfied: requests>=2.31 in c:\\python310\\scg_64\\lib\\site-packages (from jupyterlab-server<3,>=2.27.1->notebook) (2.32.2)\n",
      "Requirement already satisfied: babel>=2.10 in c:\\python310\\scg_64\\lib\\site-packages (from jupyterlab-server<3,>=2.27.1->notebook) (2.17.0)\n",
      "Requirement already satisfied: sniffio>=1.1 in c:\\python310\\scg_64\\lib\\site-packages (from anyio>=3.1.0->jupyter-server<3,>=2.4.0->notebook) (1.3.1)\n",
      "Requirement already satisfied: idna>=2.8 in c:\\python310\\scg_64\\lib\\site-packages (from anyio>=3.1.0->jupyter-server<3,>=2.4.0->notebook) (3.7)\n",
      "Requirement already satisfied: argon2-cffi-bindings in c:\\python310\\scg_64\\lib\\site-packages (from argon2-cffi>=21.1->jupyter-server<3,>=2.4.0->notebook) (21.2.0)\n",
      "Requirement already satisfied: certifi in c:\\python310\\scg_64\\lib\\site-packages (from httpx>=0.25.0->jupyterlab<4.5,>=4.4.4->notebook) (2024.2.2)\n",
      "Requirement already satisfied: httpcore==1.* in c:\\python310\\scg_64\\lib\\site-packages (from httpx>=0.25.0->jupyterlab<4.5,>=4.4.4->notebook) (1.0.9)\n",
      "Requirement already satisfied: h11>=0.16 in c:\\python310\\scg_64\\lib\\site-packages (from httpcore==1.*->httpx>=0.25.0->jupyterlab<4.5,>=4.4.4->notebook) (0.16.0)\n",
      "Requirement already satisfied: psutil>=5.7 in c:\\users\\joshi\\appdata\\roaming\\python\\python310\\site-packages (from ipykernel>=6.5.0->jupyterlab<4.5,>=4.4.4->notebook) (7.0.0)\n",
      "Requirement already satisfied: nest-asyncio>=1.4 in c:\\users\\joshi\\appdata\\roaming\\python\\python310\\site-packages (from ipykernel>=6.5.0->jupyterlab<4.5,>=4.4.4->notebook) (1.6.0)\n",
      "Requirement already satisfied: debugpy>=1.6.5 in c:\\users\\joshi\\appdata\\roaming\\python\\python310\\site-packages (from ipykernel>=6.5.0->jupyterlab<4.5,>=4.4.4->notebook) (1.8.15)\n",
      "Requirement already satisfied: parso<0.9.0,>=0.8.4 in c:\\users\\joshi\\appdata\\roaming\\python\\python310\\site-packages (from jedi>=0.16->ipython>=6.1.0->ipywidgets) (0.8.4)\n",
      "Requirement already satisfied: MarkupSafe>=2.0 in c:\\python310\\scg_64\\lib\\site-packages (from jinja2>=3.0.3->jupyter-server<3,>=2.4.0->notebook) (2.1.5)\n",
      "Requirement already satisfied: attrs>=22.2.0 in c:\\python310\\scg_64\\lib\\site-packages (from jsonschema>=4.18.0->jupyterlab-server<3,>=2.27.1->notebook) (25.3.0)\n",
      "Requirement already satisfied: rpds-py>=0.7.1 in c:\\python310\\scg_64\\lib\\site-packages (from jsonschema>=4.18.0->jupyterlab-server<3,>=2.27.1->notebook) (0.26.0)\n",
      "Requirement already satisfied: jsonschema-specifications>=2023.03.6 in c:\\python310\\scg_64\\lib\\site-packages (from jsonschema>=4.18.0->jupyterlab-server<3,>=2.27.1->notebook) (2025.4.1)\n",
      "Requirement already satisfied: referencing>=0.28.4 in c:\\python310\\scg_64\\lib\\site-packages (from jsonschema>=4.18.0->jupyterlab-server<3,>=2.27.1->notebook) (0.36.2)\n",
      "Requirement already satisfied: python-dateutil>=2.8.2 in c:\\python310\\scg_64\\lib\\site-packages (from jupyter-client>=7.4.4->jupyter-server<3,>=2.4.0->notebook) (2.9.0.post0)\n",
      "Requirement already satisfied: platformdirs>=2.5 in c:\\python310\\scg_64\\lib\\site-packages (from jupyter-core!=5.0.*,>=4.12->jupyter-server<3,>=2.4.0->notebook) (4.2.1)\n",
      "Requirement already satisfied: pywin32>=300 in c:\\users\\joshi\\appdata\\roaming\\python\\python310\\site-packages (from jupyter-core!=5.0.*,>=4.12->jupyter-server<3,>=2.4.0->notebook) (311)\n",
      "Requirement already satisfied: pyyaml>=5.3 in c:\\python310\\scg_64\\lib\\site-packages (from jupyter-events>=0.11.0->jupyter-server<3,>=2.4.0->notebook) (6.0.2)\n",
      "Requirement already satisfied: python-json-logger>=2.0.4 in c:\\python310\\scg_64\\lib\\site-packages (from jupyter-events>=0.11.0->jupyter-server<3,>=2.4.0->notebook) (3.3.0)\n",
      "Requirement already satisfied: rfc3339-validator in c:\\python310\\scg_64\\lib\\site-packages (from jupyter-events>=0.11.0->jupyter-server<3,>=2.4.0->notebook) (0.1.4)\n",
      "Requirement already satisfied: rfc3986-validator>=0.1.1 in c:\\python310\\scg_64\\lib\\site-packages (from jupyter-events>=0.11.0->jupyter-server<3,>=2.4.0->notebook) (0.1.1)\n",
      "Requirement already satisfied: beautifulsoup4 in c:\\python310\\scg_64\\lib\\site-packages (from nbconvert>=6.4.4->jupyter-server<3,>=2.4.0->notebook) (4.13.4)\n",
      "Requirement already satisfied: pandocfilters>=1.4.1 in c:\\python310\\scg_64\\lib\\site-packages (from nbconvert>=6.4.4->jupyter-server<3,>=2.4.0->notebook) (1.5.1)\n",
      "Requirement already satisfied: defusedxml in c:\\python310\\scg_64\\lib\\site-packages (from nbconvert>=6.4.4->jupyter-server<3,>=2.4.0->notebook) (0.7.1)\n",
      "Requirement already satisfied: jupyterlab-pygments in c:\\python310\\scg_64\\lib\\site-packages (from nbconvert>=6.4.4->jupyter-server<3,>=2.4.0->notebook) (0.3.0)\n",
      "Requirement already satisfied: mistune<4,>=2.0.3 in c:\\python310\\scg_64\\lib\\site-packages (from nbconvert>=6.4.4->jupyter-server<3,>=2.4.0->notebook) (3.1.3)\n",
      "Requirement already satisfied: bleach[css]!=5.0.0 in c:\\python310\\scg_64\\lib\\site-packages (from nbconvert>=6.4.4->jupyter-server<3,>=2.4.0->notebook) (6.2.0)\n",
      "Requirement already satisfied: nbclient>=0.5.0 in c:\\python310\\scg_64\\lib\\site-packages (from nbconvert>=6.4.4->jupyter-server<3,>=2.4.0->notebook) (0.10.2)\n",
      "Requirement already satisfied: fastjsonschema>=2.15 in c:\\python310\\scg_64\\lib\\site-packages (from nbformat>=5.3.0->jupyter-server<3,>=2.4.0->notebook) (2.21.1)\n",
      "Requirement already satisfied: wcwidth in c:\\users\\joshi\\appdata\\roaming\\python\\python310\\site-packages (from prompt_toolkit<3.1.0,>=3.0.41->ipython>=6.1.0->ipywidgets) (0.2.13)\n",
      "Requirement already satisfied: charset-normalizer<4,>=2 in c:\\python310\\scg_64\\lib\\site-packages (from requests>=2.31->jupyterlab-server<3,>=2.27.1->notebook) (3.3.2)\n",
      "Requirement already satisfied: urllib3<3,>=1.21.1 in c:\\python310\\scg_64\\lib\\site-packages (from requests>=2.31->jupyterlab-server<3,>=2.27.1->notebook) (2.2.1)\n",
      "Requirement already satisfied: asttokens>=2.1.0 in c:\\users\\joshi\\appdata\\roaming\\python\\python310\\site-packages (from stack_data->ipython>=6.1.0->ipywidgets) (3.0.0)\n",
      "Requirement already satisfied: executing>=1.2.0 in c:\\users\\joshi\\appdata\\roaming\\python\\python310\\site-packages (from stack_data->ipython>=6.1.0->ipywidgets) (2.2.0)\n",
      "Requirement already satisfied: pure-eval in c:\\users\\joshi\\appdata\\roaming\\python\\python310\\site-packages (from stack_data->ipython>=6.1.0->ipywidgets) (0.2.3)\n",
      "Requirement already satisfied: webencodings in c:\\python310\\scg_64\\lib\\site-packages (from bleach[css]!=5.0.0->nbconvert>=6.4.4->jupyter-server<3,>=2.4.0->notebook) (0.5.1)\n",
      "Requirement already satisfied: tinycss2<1.5,>=1.1.0 in c:\\python310\\scg_64\\lib\\site-packages (from bleach[css]!=5.0.0->nbconvert>=6.4.4->jupyter-server<3,>=2.4.0->notebook) (1.4.0)\n",
      "Requirement already satisfied: rfc3987-syntax>=1.1.0 in c:\\python310\\scg_64\\lib\\site-packages (from jsonschema>=4.18.0->jupyterlab-server<3,>=2.27.1->notebook) (1.1.0)\n",
      "Requirement already satisfied: fqdn in c:\\python310\\scg_64\\lib\\site-packages (from jsonschema>=4.18.0->jupyterlab-server<3,>=2.27.1->notebook) (1.5.1)\n",
      "Requirement already satisfied: isoduration in c:\\python310\\scg_64\\lib\\site-packages (from jsonschema>=4.18.0->jupyterlab-server<3,>=2.27.1->notebook) (20.11.0)\n",
      "Requirement already satisfied: jsonpointer>1.13 in c:\\python310\\scg_64\\lib\\site-packages (from jsonschema>=4.18.0->jupyterlab-server<3,>=2.27.1->notebook) (3.0.0)\n",
      "Requirement already satisfied: webcolors>=24.6.0 in c:\\python310\\scg_64\\lib\\site-packages (from jsonschema>=4.18.0->jupyterlab-server<3,>=2.27.1->notebook) (24.11.1)\n",
      "Requirement already satisfied: uri-template in c:\\python310\\scg_64\\lib\\site-packages (from jsonschema>=4.18.0->jupyterlab-server<3,>=2.27.1->notebook) (1.3.0)\n",
      "Requirement already satisfied: six>=1.5 in c:\\python310\\scg_64\\lib\\site-packages (from python-dateutil>=2.8.2->jupyter-client>=7.4.4->jupyter-server<3,>=2.4.0->notebook) (1.16.0)\n",
      "Requirement already satisfied: cffi>=1.0.1 in c:\\python310\\scg_64\\lib\\site-packages (from argon2-cffi-bindings->argon2-cffi>=21.1->jupyter-server<3,>=2.4.0->notebook) (1.17.1)\n",
      "Requirement already satisfied: soupsieve>1.2 in c:\\python310\\scg_64\\lib\\site-packages (from beautifulsoup4->nbconvert>=6.4.4->jupyter-server<3,>=2.4.0->notebook) (2.7)\n",
      "Requirement already satisfied: pycparser in c:\\python310\\scg_64\\lib\\site-packages (from cffi>=1.0.1->argon2-cffi-bindings->argon2-cffi>=21.1->jupyter-server<3,>=2.4.0->notebook) (2.22)\n",
      "Requirement already satisfied: lark>=1.2.2 in c:\\python310\\scg_64\\lib\\site-packages (from rfc3987-syntax>=1.1.0->jsonschema>=4.18.0->jupyterlab-server<3,>=2.27.1->notebook) (1.2.2)\n",
      "Requirement already satisfied: arrow>=0.15.0 in c:\\python310\\scg_64\\lib\\site-packages (from isoduration->jsonschema>=4.18.0->jupyterlab-server<3,>=2.27.1->notebook) (1.3.0)\n",
      "Requirement already satisfied: types-python-dateutil>=2.8.10 in c:\\python310\\scg_64\\lib\\site-packages (from arrow>=0.15.0->isoduration->jsonschema>=4.18.0->jupyterlab-server<3,>=2.27.1->notebook) (2.9.0.20250708)\n"
     ]
    },
    {
     "name": "stderr",
     "output_type": "stream",
     "text": [
      "WARNING: You are using pip version 22.0.4; however, version 25.1.1 is available.\n",
      "You should consider upgrading via the 'C:\\Python310\\SCG_64\\python.exe -m pip install --upgrade pip' command.\n",
      "Enabling notebook extension jupyter-js-widgets/extension...\n",
      "      - Validating: ok\n"
     ]
    }
   ],
   "source": [
    "!pip install ipywidgets notebook tqdm --upgrade\n",
    "!jupyter nbextension enable --py widgetsnbextension"
   ]
  },
  {
   "cell_type": "code",
   "execution_count": 2,
   "metadata": {},
   "outputs": [
    {
     "name": "stdout",
     "output_type": "stream",
     "text": [
      "Requirement already satisfied: huggingface_hub in c:\\python310\\scg_64\\lib\\site-packages (0.34.1)\n",
      "Requirement already satisfied: requests in c:\\python310\\scg_64\\lib\\site-packages (from huggingface_hub) (2.32.2)\n",
      "Requirement already satisfied: packaging>=20.9 in c:\\python310\\scg_64\\lib\\site-packages (from huggingface_hub) (24.0)\n",
      "Requirement already satisfied: pyyaml>=5.1 in c:\\python310\\scg_64\\lib\\site-packages (from huggingface_hub) (6.0.2)\n",
      "Requirement already satisfied: filelock in c:\\python310\\scg_64\\lib\\site-packages (from huggingface_hub) (3.18.0)\n",
      "Requirement already satisfied: typing-extensions>=3.7.4.3 in c:\\python310\\scg_64\\lib\\site-packages (from huggingface_hub) (4.14.1)\n",
      "Requirement already satisfied: tqdm>=4.42.1 in c:\\python310\\scg_64\\lib\\site-packages (from huggingface_hub) (4.67.1)\n",
      "Requirement already satisfied: fsspec>=2023.5.0 in c:\\python310\\scg_64\\lib\\site-packages (from huggingface_hub) (2025.7.0)\n",
      "Requirement already satisfied: colorama in c:\\python310\\scg_64\\lib\\site-packages (from tqdm>=4.42.1->huggingface_hub) (0.4.6)\n",
      "Requirement already satisfied: urllib3<3,>=1.21.1 in c:\\python310\\scg_64\\lib\\site-packages (from requests->huggingface_hub) (2.2.1)\n",
      "Requirement already satisfied: idna<4,>=2.5 in c:\\python310\\scg_64\\lib\\site-packages (from requests->huggingface_hub) (3.7)\n",
      "Requirement already satisfied: charset-normalizer<4,>=2 in c:\\python310\\scg_64\\lib\\site-packages (from requests->huggingface_hub) (3.3.2)\n",
      "Requirement already satisfied: certifi>=2017.4.17 in c:\\python310\\scg_64\\lib\\site-packages (from requests->huggingface_hub) (2024.2.2)\n"
     ]
    },
    {
     "name": "stderr",
     "output_type": "stream",
     "text": [
      "WARNING: You are using pip version 22.0.4; however, version 25.1.1 is available.\n",
      "You should consider upgrading via the 'C:\\Python310\\SCG_64\\python.exe -m pip install --upgrade pip' command.\n"
     ]
    }
   ],
   "source": [
    "!pip install huggingface_hub"
   ]
  },
  {
   "cell_type": "code",
   "execution_count": 3,
   "metadata": {},
   "outputs": [
    {
     "name": "stdout",
     "output_type": "stream",
     "text": [
      "Requirement already satisfied: tiktoken in c:\\python310\\scg_64\\lib\\site-packages (0.9.0)\n",
      "Requirement already satisfied: protobuf==3.20.3 in c:\\python310\\scg_64\\lib\\site-packages (3.20.3)\n",
      "Requirement already satisfied: requests>=2.26.0 in c:\\python310\\scg_64\\lib\\site-packages (from tiktoken) (2.32.2)\n",
      "Requirement already satisfied: regex>=2022.1.18 in c:\\python310\\scg_64\\lib\\site-packages (from tiktoken) (2024.5.15)\n",
      "Requirement already satisfied: charset-normalizer<4,>=2 in c:\\python310\\scg_64\\lib\\site-packages (from requests>=2.26.0->tiktoken) (3.3.2)\n",
      "Requirement already satisfied: idna<4,>=2.5 in c:\\python310\\scg_64\\lib\\site-packages (from requests>=2.26.0->tiktoken) (3.7)\n",
      "Requirement already satisfied: certifi>=2017.4.17 in c:\\python310\\scg_64\\lib\\site-packages (from requests>=2.26.0->tiktoken) (2024.2.2)\n",
      "Requirement already satisfied: urllib3<3,>=1.21.1 in c:\\python310\\scg_64\\lib\\site-packages (from requests>=2.26.0->tiktoken) (2.2.1)\n"
     ]
    },
    {
     "name": "stderr",
     "output_type": "stream",
     "text": [
      "WARNING: You are using pip version 22.0.4; however, version 25.1.1 is available.\n",
      "You should consider upgrading via the 'C:\\Python310\\SCG_64\\python.exe -m pip install --upgrade pip' command.\n"
     ]
    }
   ],
   "source": [
    "!pip install tiktoken protobuf==3.20.3"
   ]
  },
  {
   "cell_type": "code",
   "execution_count": 4,
   "metadata": {},
   "outputs": [],
   "source": [
    "import torch\n"
   ]
  },
  {
   "cell_type": "code",
   "execution_count": 5,
   "metadata": {},
   "outputs": [],
   "source": [
    "import transformers\n"
   ]
  },
  {
   "cell_type": "code",
   "execution_count": 6,
   "metadata": {},
   "outputs": [],
   "source": [
    "from transformers import pipeline, AutoTokenizer, AutoModelForSeq2SeqLM"
   ]
  },
  {
   "cell_type": "code",
   "execution_count": 7,
   "metadata": {},
   "outputs": [],
   "source": [
    "from huggingface_hub import InferenceClient"
   ]
  },
  {
   "cell_type": "code",
   "execution_count": null,
   "metadata": {},
   "outputs": [],
   "source": [
    "class Summarizer:\n",
    "    def __init__(self, model_name=\"facebook/bart-large-cnn\"):\n",
    "        device = \"cuda\" if torch.cuda.is_available() else \"cpu\"\n",
    "        self.device = 0 if device == \"cuda\" else -1\n",
    "\n",
    "        self.tokenizer = AutoTokenizer.from_pretrained(model_name)\n",
    "        self.model = AutoModelForSeq2SeqLM.from_pretrained(model_name).to(device)\n",
    "        self.summarizer = pipeline(\"summarization\", model=self.model, tokenizer=self.tokenizer, device=self.device)\n",
    "\n",
    "    def chunk_text(self, text: str, max_tokens=600, overlap=100) -> list:\n",
    "        words = text.split()\n",
    "        chunks = []\n",
    "        i = 0\n",
    "        while i < len(words):\n",
    "            chunk = words[i:i+max_tokens]\n",
    "            chunks.append(\" \".join(chunk))\n",
    "            i += max_tokens - overlap\n",
    "        return chunks\n",
    "\n",
    "    def summarize_chunk(self, chunk: str) -> str:\n",
    "        try:\n",
    "            result = self.summarizer(\n",
    "                chunk,\n",
    "                max_length=150,\n",
    "                min_length=40,\n",
    "                truncation=True,\n",
    "                do_sample=False\n",
    "            )\n",
    "            return result[0]['summary_text'].strip()\n",
    "        except Exception as e:\n",
    "            print(f\"❌ Error summarizing chunk: {e}\")\n",
    "            return \"\"\n",
    "\n",
    "    def summarize(self, text: str, recursive=True) -> str:\n",
    "        chunks = self.chunk_text(text)\n",
    "        summaries = [self.summarize_chunk(chunk) for chunk in chunks if chunk.strip()]\n",
    "        merged_summary = \"\\n\".join(summaries)\n",
    "\n",
    "        if recursive and len(summaries) > 3:\n",
    "            print(\"🔁 Recursive summarization...\")\n",
    "            return self.summarize_chunk(merged_summary)\n",
    "        else:\n",
    "            return merged_summary"
   ]
  }
 ],
 "metadata": {
  "kernelspec": {
   "display_name": "Python 3",
   "language": "python",
   "name": "python3"
  },
  "language_info": {
   "codemirror_mode": {
    "name": "ipython",
    "version": 3
   },
   "file_extension": ".py",
   "mimetype": "text/x-python",
   "name": "python",
   "nbconvert_exporter": "python",
   "pygments_lexer": "ipython3",
   "version": "3.10.5"
  }
 },
 "nbformat": 4,
 "nbformat_minor": 2
}
