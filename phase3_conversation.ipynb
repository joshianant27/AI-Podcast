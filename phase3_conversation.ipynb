{
 "cells": [
  {
   "cell_type": "code",
   "execution_count": 1,
   "id": "27e95ae6",
   "metadata": {},
   "outputs": [],
   "source": [
    "from transformers import pipeline, AutoModelForCausalLM, AutoTokenizer"
   ]
  },
  {
   "cell_type": "code",
   "execution_count": 2,
   "id": "d01b9757",
   "metadata": {},
   "outputs": [],
   "source": [
    "import torch"
   ]
  },
  {
   "cell_type": "code",
   "execution_count": 3,
   "id": "c69a85b2",
   "metadata": {},
   "outputs": [],
   "source": [
    "class ConversationGenerator:\n",
    "    def __init__(self, model_name=\"HuggingFaceH4/zephyr-7b-beta\"):\n",
    "        print(\"⏳ Loading conversation model...\")\n",
    "\n",
    "        self.device = \"cuda\" if torch.cuda.is_available() else \"cpu\"\n",
    "\n",
    "        self.tokenizer = AutoTokenizer.from_pretrained(model_name)\n",
    "        self.model = AutoModelForCausalLM.from_pretrained(model_name, device_map=\"auto\", torch_dtype=torch.float16 if self.device == \"cuda\" else torch.float32)\n",
    "        self.generator = pipeline(\"text-generation\", model=self.model, tokenizer=self.tokenizer, device=0 if self.device == \"cuda\" else -1)\n",
    "\n",
    "        print(\"✅ Zephyr model loaded!\")\n",
    "\n",
    "    def generate_conversation(self, summary_text: str, max_turns: int = 6) -> str:\n",
    "        prompt = f\"\"\"\n",
    "You are writing a podcast dialogue between two hosts: Alex and Jordan.\n",
    "\n",
    "Topic:\n",
    "\\\"\\\"\\\"{summary_text}\\\"\\\"\\\"\n",
    "\n",
    "Alex is curious and asks questions.\n",
    "Jordan is thoughtful and insightful.\n",
    "\n",
    "Write a natural, flowing conversation. Limit to {max_turns} exchanges.\n",
    "\n",
    "Alex:\n",
    "\"\"\"\n",
    "\n",
    "        result = self.generator(prompt, max_new_tokens=500, do_sample=True, temperature=0.7, top_p=0.9)[0][\"generated_text\"]\n",
    "        return result"
   ]
  }
 ],
 "metadata": {
  "kernelspec": {
   "display_name": "Python 3",
   "language": "python",
   "name": "python3"
  },
  "language_info": {
   "codemirror_mode": {
    "name": "ipython",
    "version": 3
   },
   "file_extension": ".py",
   "mimetype": "text/x-python",
   "name": "python",
   "nbconvert_exporter": "python",
   "pygments_lexer": "ipython3",
   "version": "3.10.5"
  }
 },
 "nbformat": 4,
 "nbformat_minor": 5
}
