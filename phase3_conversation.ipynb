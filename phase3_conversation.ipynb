{
 "cells": [
  {
   "cell_type": "code",
   "execution_count": 10,
   "id": "27e95ae6",
   "metadata": {},
   "outputs": [],
   "source": [
    "from transformers import pipeline, AutoModelForCausalLM, AutoTokenizer"
   ]
  },
  {
   "cell_type": "code",
   "execution_count": 11,
   "id": "d01b9757",
   "metadata": {},
   "outputs": [],
   "source": [
    "import torch"
   ]
  },
  {
   "cell_type": "code",
   "execution_count": 12,
   "id": "152e6628",
   "metadata": {},
   "outputs": [],
   "source": [
    "import re"
   ]
  },
  {
   "cell_type": "code",
   "execution_count": 13,
   "id": "d2095c34",
   "metadata": {},
   "outputs": [],
   "source": [
    "class ConversationGenerator:\n",
    "    def __init__(self, model_name=\"stabilityai/stablelm-2-zephyr-1_6b\"):\n",
    "        self.tokenizer = AutoTokenizer.from_pretrained(model_name)\n",
    "        self.model = AutoModelForCausalLM.from_pretrained(\n",
    "            model_name,\n",
    "            device_map=\"auto\",\n",
    "            torch_dtype=torch.float16 if torch.cuda.is_available() else torch.float32,\n",
    "        )\n",
    "        self.generator = pipeline(\"text-generation\", model=self.model, tokenizer=self.tokenizer)\n",
    "\n",
    "    def _format_chat(self, summary_text: str, max_turns: int):\n",
    "        # Use the model's chat template for best behavior\n",
    "        messages = [\n",
    "            {\"role\": \"system\",\n",
    "             \"content\": (\n",
    "                 \"You produce podcast-style dialogue between two hosts, Alex and Jordan. \"\n",
    "                 \"Output ONLY lines that start with 'Alex:' or 'Jordan:'. No narration, no summary.\"\n",
    "             )},\n",
    "            {\"role\": \"user\",\n",
    "             \"content\": (\n",
    "                 \"Topic summary:\\n\"\n",
    "                 f\"{summary_text}\\n\\n\"\n",
    "                 \"Write a natural, back-and-forth conversation (about \"\n",
    "                 f\"{max_turns} exchanges). Keep each line concise (1–2 sentences). \"\n",
    "                 \"Vary questions and insights. Do NOT restate the summary—discuss it.\"\n",
    "                 \"\\n\\nExample style:\\n\"\n",
    "                 \"Alex: Quick hook question.\\n\"\n",
    "                 \"Jordan: Concise insight plus a follow-up question.\\n\"\n",
    "                 \"Alex: Builds on it, asks why.\\n\"\n",
    "                 \"Jordan: Gives context, adds a nuance.\\n\"\n",
    "                 \"----\\n\"\n",
    "                 \"Begin the transcript now.\"\n",
    "             )},\n",
    "        ]\n",
    "        return self.tokenizer.apply_chat_template(messages, tokenize=False, add_generation_prompt=True)\n",
    "\n",
    "    def _postprocess(self, text: str):\n",
    "        # Keep only Alex:/Jordan: lines, stop if model drifts\n",
    "        lines = []\n",
    "        for line in text.splitlines():\n",
    "            line = line.strip()\n",
    "            if re.match(r\"^(Alex|Jordan):\", line):\n",
    "                lines.append(line)\n",
    "        # de-duplicate and trim trailing partials\n",
    "        seen = set()\n",
    "        cleaned = []\n",
    "        for l in lines:\n",
    "            if l not in seen:\n",
    "                cleaned.append(l)\n",
    "                seen.add(l)\n",
    "        return \"\\n\".join(cleaned)\n",
    "\n",
    "    def generate_conversation(self, summary_text: str, max_turns: int = 6):\n",
    "        prompt = self._format_chat(summary_text, max_turns)\n",
    "\n",
    "        out = self.generator(\n",
    "            prompt,\n",
    "            max_new_tokens=480,          # keeps it bounded\n",
    "            do_sample=True,\n",
    "            temperature=0.7,\n",
    "            top_p=0.9,\n",
    "            repetition_penalty=1.1,      # discourages looping\n",
    "            eos_token_id=self.tokenizer.eos_token_id,\n",
    "            pad_token_id=self.tokenizer.eos_token_id,\n",
    "        )[0][\"generated_text\"]\n",
    "\n",
    "        # Keep only model continuation (strip the prompt) if needed\n",
    "        continuation = out[len(prompt):]\n",
    "        return self._postprocess(continuation)"
   ]
  }
 ],
 "metadata": {
  "kernelspec": {
   "display_name": "Python 3",
   "language": "python",
   "name": "python3"
  },
  "language_info": {
   "codemirror_mode": {
    "name": "ipython",
    "version": 3
   },
   "file_extension": ".py",
   "mimetype": "text/x-python",
   "name": "python",
   "nbconvert_exporter": "python",
   "pygments_lexer": "ipython3",
   "version": "3.10.5"
  }
 },
 "nbformat": 4,
 "nbformat_minor": 5
}
