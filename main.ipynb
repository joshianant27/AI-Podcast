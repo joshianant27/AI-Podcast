{
 "cells": [
  {
   "cell_type": "code",
   "execution_count": 1,
   "metadata": {},
   "outputs": [
    {
     "name": "stderr",
     "output_type": "stream",
     "text": [
      "[NbConvertApp] Converting notebook phase1_input_loader.ipynb to script\n",
      "[NbConvertApp] Writing 1272 bytes to phase1_input_loader.py\n",
      "[NbConvertApp] Converting notebook phase2_summarizer.ipynb to script\n",
      "[NbConvertApp] Writing 2183 bytes to phase2_summarizer.py\n",
      "[NbConvertApp] Converting notebook phase3_conversation.ipynb to script\n",
      "[NbConvertApp] Writing 1329 bytes to phase3_conversation.py\n"
     ]
    }
   ],
   "source": [
    "!jupyter nbconvert --to script phase1_input_loader.ipynb\n",
    "!jupyter nbconvert --to script phase2_summarizer.ipynb\n",
    "!jupyter nbconvert --to script phase3_conversation.ipynb"
   ]
  },
  {
   "cell_type": "code",
   "execution_count": 2,
   "metadata": {},
   "outputs": [
    {
     "name": "stdout",
     "output_type": "stream",
     "text": [
      "Requirement already satisfied: ipywidgets in c:\\python310\\scg_64\\lib\\site-packages (8.1.7)"
     ]
    },
    {
     "name": "stderr",
     "output_type": "stream",
     "text": [
      "WARNING: You are using pip version 22.0.4; however, version 25.2 is available.\n",
      "You should consider upgrading via the 'C:\\Python310\\SCG_64\\python.exe -m pip install --upgrade pip' command.\n"
     ]
    },
    {
     "name": "stdout",
     "output_type": "stream",
     "text": [
      "\n",
      "Requirement already satisfied: notebook in c:\\python310\\scg_64\\lib\\site-packages (7.4.5)\n",
      "Requirement already satisfied: tqdm in c:\\python310\\scg_64\\lib\\site-packages (4.67.1)\n",
      "Requirement already satisfied: traitlets>=4.3.1 in c:\\users\\joshi\\appdata\\roaming\\python\\python310\\site-packages (from ipywidgets) (5.14.3)\n",
      "Requirement already satisfied: jupyterlab_widgets~=3.0.15 in c:\\python310\\scg_64\\lib\\site-packages (from ipywidgets) (3.0.15)\n",
      "Requirement already satisfied: widgetsnbextension~=4.0.14 in c:\\python310\\scg_64\\lib\\site-packages (from ipywidgets) (4.0.14)\n",
      "Requirement already satisfied: comm>=0.1.3 in c:\\users\\joshi\\appdata\\roaming\\python\\python310\\site-packages (from ipywidgets) (0.2.3)\n",
      "Requirement already satisfied: ipython>=6.1.0 in c:\\users\\joshi\\appdata\\roaming\\python\\python310\\site-packages (from ipywidgets) (8.37.0)\n",
      "Requirement already satisfied: notebook-shim<0.3,>=0.2 in c:\\python310\\scg_64\\lib\\site-packages (from notebook) (0.2.4)\n",
      "Requirement already satisfied: jupyter-server<3,>=2.4.0 in c:\\python310\\scg_64\\lib\\site-packages (from notebook) (2.16.0)\n",
      "Requirement already satisfied: jupyterlab<4.5,>=4.4.5 in c:\\python310\\scg_64\\lib\\site-packages (from notebook) (4.4.5)\n",
      "Requirement already satisfied: jupyterlab-server<3,>=2.27.1 in c:\\python310\\scg_64\\lib\\site-packages (from notebook) (2.27.3)\n",
      "Requirement already satisfied: tornado>=6.2.0 in c:\\users\\joshi\\appdata\\roaming\\python\\python310\\site-packages (from notebook) (6.5.1)\n",
      "Requirement already satisfied: colorama in c:\\python310\\scg_64\\lib\\site-packages (from tqdm) (0.4.6)\n",
      "Requirement already satisfied: typing_extensions>=4.6 in c:\\python310\\scg_64\\lib\\site-packages (from ipython>=6.1.0->ipywidgets) (4.14.1)\n",
      "Requirement already satisfied: jedi>=0.16 in c:\\users\\joshi\\appdata\\roaming\\python\\python310\\site-packages (from ipython>=6.1.0->ipywidgets) (0.19.2)\n",
      "Requirement already satisfied: matplotlib-inline in c:\\users\\joshi\\appdata\\roaming\\python\\python310\\site-packages (from ipython>=6.1.0->ipywidgets) (0.1.7)\n",
      "Requirement already satisfied: exceptiongroup in c:\\users\\joshi\\appdata\\roaming\\python\\python310\\site-packages (from ipython>=6.1.0->ipywidgets) (1.3.0)\n",
      "Requirement already satisfied: decorator in c:\\users\\joshi\\appdata\\roaming\\python\\python310\\site-packages (from ipython>=6.1.0->ipywidgets) (5.2.1)\n",
      "Requirement already satisfied: prompt_toolkit<3.1.0,>=3.0.41 in c:\\users\\joshi\\appdata\\roaming\\python\\python310\\site-packages (from ipython>=6.1.0->ipywidgets) (3.0.51)\n",
      "Requirement already satisfied: stack_data in c:\\users\\joshi\\appdata\\roaming\\python\\python310\\site-packages (from ipython>=6.1.0->ipywidgets) (0.6.3)\n",
      "Requirement already satisfied: pygments>=2.4.0 in c:\\users\\joshi\\appdata\\roaming\\python\\python310\\site-packages (from ipython>=6.1.0->ipywidgets) (2.19.2)\n",
      "Requirement already satisfied: send2trash>=1.8.2 in c:\\python310\\scg_64\\lib\\site-packages (from jupyter-server<3,>=2.4.0->notebook) (1.8.3)\n",
      "Requirement already satisfied: jupyter-client>=7.4.4 in c:\\users\\joshi\\appdata\\roaming\\python\\python310\\site-packages (from jupyter-server<3,>=2.4.0->notebook) (8.6.3)\n",
      "Requirement already satisfied: jupyter-events>=0.11.0 in c:\\python310\\scg_64\\lib\\site-packages (from jupyter-server<3,>=2.4.0->notebook) (0.12.0)\n",
      "Requirement already satisfied: jupyter-core!=5.0.*,>=4.12 in c:\\users\\joshi\\appdata\\roaming\\python\\python310\\site-packages (from jupyter-server<3,>=2.4.0->notebook) (5.8.1)\n",
      "Requirement already satisfied: pywinpty>=2.0.1 in c:\\python310\\scg_64\\lib\\site-packages (from jupyter-server<3,>=2.4.0->notebook) (2.0.15)\n",
      "Requirement already satisfied: nbconvert>=6.4.4 in c:\\python310\\scg_64\\lib\\site-packages (from jupyter-server<3,>=2.4.0->notebook) (7.16.6)\n",
      "Requirement already satisfied: websocket-client>=1.7 in c:\\python310\\scg_64\\lib\\site-packages (from jupyter-server<3,>=2.4.0->notebook) (1.8.0)\n",
      "Requirement already satisfied: jupyter-server-terminals>=0.4.4 in c:\\python310\\scg_64\\lib\\site-packages (from jupyter-server<3,>=2.4.0->notebook) (0.5.3)\n",
      "Requirement already satisfied: anyio>=3.1.0 in c:\\python310\\scg_64\\lib\\site-packages (from jupyter-server<3,>=2.4.0->notebook) (4.9.0)\n",
      "Requirement already satisfied: jinja2>=3.0.3 in c:\\python310\\scg_64\\lib\\site-packages (from jupyter-server<3,>=2.4.0->notebook) (3.1.4)\n",
      "Requirement already satisfied: terminado>=0.8.3 in c:\\python310\\scg_64\\lib\\site-packages (from jupyter-server<3,>=2.4.0->notebook) (0.18.1)\n",
      "Requirement already satisfied: packaging>=22.0 in c:\\python310\\scg_64\\lib\\site-packages (from jupyter-server<3,>=2.4.0->notebook) (24.0)\n",
      "Requirement already satisfied: prometheus-client>=0.9 in c:\\python310\\scg_64\\lib\\site-packages (from jupyter-server<3,>=2.4.0->notebook) (0.22.1)\n",
      "Requirement already satisfied: pyzmq>=24 in c:\\users\\joshi\\appdata\\roaming\\python\\python310\\site-packages (from jupyter-server<3,>=2.4.0->notebook) (27.0.0)\n",
      "Requirement already satisfied: argon2-cffi>=21.1 in c:\\python310\\scg_64\\lib\\site-packages (from jupyter-server<3,>=2.4.0->notebook) (25.1.0)\n",
      "Requirement already satisfied: overrides>=5.0 in c:\\python310\\scg_64\\lib\\site-packages (from jupyter-server<3,>=2.4.0->notebook) (7.7.0)\n",
      "Requirement already satisfied: nbformat>=5.3.0 in c:\\python310\\scg_64\\lib\\site-packages (from jupyter-server<3,>=2.4.0->notebook) (5.10.4)\n",
      "Requirement already satisfied: httpx>=0.25.0 in c:\\python310\\scg_64\\lib\\site-packages (from jupyterlab<4.5,>=4.4.5->notebook) (0.28.1)\n",
      "Requirement already satisfied: tomli>=1.2.2 in c:\\python310\\scg_64\\lib\\site-packages (from jupyterlab<4.5,>=4.4.5->notebook) (2.2.1)\n",
      "Requirement already satisfied: setuptools>=41.1.0 in c:\\python310\\scg_64\\lib\\site-packages (from jupyterlab<4.5,>=4.4.5->notebook) (58.1.0)\n",
      "Requirement already satisfied: async-lru>=1.0.0 in c:\\python310\\scg_64\\lib\\site-packages (from jupyterlab<4.5,>=4.4.5->notebook) (2.0.5)\n",
      "Requirement already satisfied: ipykernel>=6.5.0 in c:\\users\\joshi\\appdata\\roaming\\python\\python310\\site-packages (from jupyterlab<4.5,>=4.4.5->notebook) (6.30.0)\n",
      "Requirement already satisfied: jupyter-lsp>=2.0.0 in c:\\python310\\scg_64\\lib\\site-packages (from jupyterlab<4.5,>=4.4.5->notebook) (2.2.6)\n",
      "Requirement already satisfied: json5>=0.9.0 in c:\\python310\\scg_64\\lib\\site-packages (from jupyterlab-server<3,>=2.27.1->notebook) (0.12.0)\n",
      "Requirement already satisfied: babel>=2.10 in c:\\python310\\scg_64\\lib\\site-packages (from jupyterlab-server<3,>=2.27.1->notebook) (2.17.0)\n",
      "Requirement already satisfied: jsonschema>=4.18.0 in c:\\python310\\scg_64\\lib\\site-packages (from jupyterlab-server<3,>=2.27.1->notebook) (4.25.0)\n",
      "Requirement already satisfied: requests>=2.31 in c:\\python310\\scg_64\\lib\\site-packages (from jupyterlab-server<3,>=2.27.1->notebook) (2.32.2)\n",
      "Requirement already satisfied: idna>=2.8 in c:\\python310\\scg_64\\lib\\site-packages (from anyio>=3.1.0->jupyter-server<3,>=2.4.0->notebook) (3.7)\n",
      "Requirement already satisfied: sniffio>=1.1 in c:\\python310\\scg_64\\lib\\site-packages (from anyio>=3.1.0->jupyter-server<3,>=2.4.0->notebook) (1.3.1)\n",
      "Requirement already satisfied: argon2-cffi-bindings in c:\\python310\\scg_64\\lib\\site-packages (from argon2-cffi>=21.1->jupyter-server<3,>=2.4.0->notebook) (21.2.0)\n",
      "Requirement already satisfied: httpcore==1.* in c:\\python310\\scg_64\\lib\\site-packages (from httpx>=0.25.0->jupyterlab<4.5,>=4.4.5->notebook) (1.0.9)\n",
      "Requirement already satisfied: certifi in c:\\python310\\scg_64\\lib\\site-packages (from httpx>=0.25.0->jupyterlab<4.5,>=4.4.5->notebook) (2024.2.2)\n",
      "Requirement already satisfied: h11>=0.16 in c:\\python310\\scg_64\\lib\\site-packages (from httpcore==1.*->httpx>=0.25.0->jupyterlab<4.5,>=4.4.5->notebook) (0.16.0)\n",
      "Requirement already satisfied: nest-asyncio>=1.4 in c:\\users\\joshi\\appdata\\roaming\\python\\python310\\site-packages (from ipykernel>=6.5.0->jupyterlab<4.5,>=4.4.5->notebook) (1.6.0)\n",
      "Requirement already satisfied: psutil>=5.7 in c:\\users\\joshi\\appdata\\roaming\\python\\python310\\site-packages (from ipykernel>=6.5.0->jupyterlab<4.5,>=4.4.5->notebook) (7.0.0)\n",
      "Requirement already satisfied: debugpy>=1.6.5 in c:\\users\\joshi\\appdata\\roaming\\python\\python310\\site-packages (from ipykernel>=6.5.0->jupyterlab<4.5,>=4.4.5->notebook) (1.8.15)\n",
      "Requirement already satisfied: parso<0.9.0,>=0.8.4 in c:\\users\\joshi\\appdata\\roaming\\python\\python310\\site-packages (from jedi>=0.16->ipython>=6.1.0->ipywidgets) (0.8.4)\n",
      "Requirement already satisfied: MarkupSafe>=2.0 in c:\\python310\\scg_64\\lib\\site-packages (from jinja2>=3.0.3->jupyter-server<3,>=2.4.0->notebook) (2.1.5)\n",
      "Requirement already satisfied: referencing>=0.28.4 in c:\\python310\\scg_64\\lib\\site-packages (from jsonschema>=4.18.0->jupyterlab-server<3,>=2.27.1->notebook) (0.36.2)\n",
      "Requirement already satisfied: jsonschema-specifications>=2023.03.6 in c:\\python310\\scg_64\\lib\\site-packages (from jsonschema>=4.18.0->jupyterlab-server<3,>=2.27.1->notebook) (2025.4.1)\n",
      "Requirement already satisfied: attrs>=22.2.0 in c:\\python310\\scg_64\\lib\\site-packages (from jsonschema>=4.18.0->jupyterlab-server<3,>=2.27.1->notebook) (25.3.0)\n",
      "Requirement already satisfied: rpds-py>=0.7.1 in c:\\python310\\scg_64\\lib\\site-packages (from jsonschema>=4.18.0->jupyterlab-server<3,>=2.27.1->notebook) (0.26.0)\n",
      "Requirement already satisfied: python-dateutil>=2.8.2 in c:\\python310\\scg_64\\lib\\site-packages (from jupyter-client>=7.4.4->jupyter-server<3,>=2.4.0->notebook) (2.9.0.post0)\n",
      "Requirement already satisfied: pywin32>=300 in c:\\users\\joshi\\appdata\\roaming\\python\\python310\\site-packages (from jupyter-core!=5.0.*,>=4.12->jupyter-server<3,>=2.4.0->notebook) (311)\n",
      "Requirement already satisfied: platformdirs>=2.5 in c:\\python310\\scg_64\\lib\\site-packages (from jupyter-core!=5.0.*,>=4.12->jupyter-server<3,>=2.4.0->notebook) (4.2.1)\n",
      "Requirement already satisfied: rfc3339-validator in c:\\python310\\scg_64\\lib\\site-packages (from jupyter-events>=0.11.0->jupyter-server<3,>=2.4.0->notebook) (0.1.4)\n",
      "Requirement already satisfied: python-json-logger>=2.0.4 in c:\\python310\\scg_64\\lib\\site-packages (from jupyter-events>=0.11.0->jupyter-server<3,>=2.4.0->notebook) (3.3.0)\n",
      "Requirement already satisfied: rfc3986-validator>=0.1.1 in c:\\python310\\scg_64\\lib\\site-packages (from jupyter-events>=0.11.0->jupyter-server<3,>=2.4.0->notebook) (0.1.1)\n",
      "Requirement already satisfied: pyyaml>=5.3 in c:\\python310\\scg_64\\lib\\site-packages (from jupyter-events>=0.11.0->jupyter-server<3,>=2.4.0->notebook) (6.0.2)\n",
      "Requirement already satisfied: jupyterlab-pygments in c:\\python310\\scg_64\\lib\\site-packages (from nbconvert>=6.4.4->jupyter-server<3,>=2.4.0->notebook) (0.3.0)\n",
      "Requirement already satisfied: nbclient>=0.5.0 in c:\\python310\\scg_64\\lib\\site-packages (from nbconvert>=6.4.4->jupyter-server<3,>=2.4.0->notebook) (0.10.2)\n",
      "Requirement already satisfied: pandocfilters>=1.4.1 in c:\\python310\\scg_64\\lib\\site-packages (from nbconvert>=6.4.4->jupyter-server<3,>=2.4.0->notebook) (1.5.1)\n",
      "Requirement already satisfied: defusedxml in c:\\python310\\scg_64\\lib\\site-packages (from nbconvert>=6.4.4->jupyter-server<3,>=2.4.0->notebook) (0.7.1)\n",
      "Requirement already satisfied: bleach[css]!=5.0.0 in c:\\python310\\scg_64\\lib\\site-packages (from nbconvert>=6.4.4->jupyter-server<3,>=2.4.0->notebook) (6.2.0)\n",
      "Requirement already satisfied: mistune<4,>=2.0.3 in c:\\python310\\scg_64\\lib\\site-packages (from nbconvert>=6.4.4->jupyter-server<3,>=2.4.0->notebook) (3.1.3)\n",
      "Requirement already satisfied: beautifulsoup4 in c:\\python310\\scg_64\\lib\\site-packages (from nbconvert>=6.4.4->jupyter-server<3,>=2.4.0->notebook) (4.13.4)\n",
      "Requirement already satisfied: fastjsonschema>=2.15 in c:\\python310\\scg_64\\lib\\site-packages (from nbformat>=5.3.0->jupyter-server<3,>=2.4.0->notebook) (2.21.1)\n",
      "Requirement already satisfied: wcwidth in c:\\users\\joshi\\appdata\\roaming\\python\\python310\\site-packages (from prompt_toolkit<3.1.0,>=3.0.41->ipython>=6.1.0->ipywidgets) (0.2.13)\n",
      "Requirement already satisfied: urllib3<3,>=1.21.1 in c:\\python310\\scg_64\\lib\\site-packages (from requests>=2.31->jupyterlab-server<3,>=2.27.1->notebook) (2.2.1)\n",
      "Requirement already satisfied: charset-normalizer<4,>=2 in c:\\python310\\scg_64\\lib\\site-packages (from requests>=2.31->jupyterlab-server<3,>=2.27.1->notebook) (3.3.2)\n",
      "Requirement already satisfied: asttokens>=2.1.0 in c:\\users\\joshi\\appdata\\roaming\\python\\python310\\site-packages (from stack_data->ipython>=6.1.0->ipywidgets) (3.0.0)\n",
      "Requirement already satisfied: pure-eval in c:\\users\\joshi\\appdata\\roaming\\python\\python310\\site-packages (from stack_data->ipython>=6.1.0->ipywidgets) (0.2.3)\n",
      "Requirement already satisfied: executing>=1.2.0 in c:\\users\\joshi\\appdata\\roaming\\python\\python310\\site-packages (from stack_data->ipython>=6.1.0->ipywidgets) (2.2.0)\n",
      "Requirement already satisfied: webencodings in c:\\python310\\scg_64\\lib\\site-packages (from bleach[css]!=5.0.0->nbconvert>=6.4.4->jupyter-server<3,>=2.4.0->notebook) (0.5.1)\n",
      "Requirement already satisfied: tinycss2<1.5,>=1.1.0 in c:\\python310\\scg_64\\lib\\site-packages (from bleach[css]!=5.0.0->nbconvert>=6.4.4->jupyter-server<3,>=2.4.0->notebook) (1.4.0)\n",
      "Requirement already satisfied: fqdn in c:\\python310\\scg_64\\lib\\site-packages (from jsonschema>=4.18.0->jupyterlab-server<3,>=2.27.1->notebook) (1.5.1)\n",
      "Requirement already satisfied: rfc3987-syntax>=1.1.0 in c:\\python310\\scg_64\\lib\\site-packages (from jsonschema>=4.18.0->jupyterlab-server<3,>=2.27.1->notebook) (1.1.0)\n",
      "Requirement already satisfied: webcolors>=24.6.0 in c:\\python310\\scg_64\\lib\\site-packages (from jsonschema>=4.18.0->jupyterlab-server<3,>=2.27.1->notebook) (24.11.1)\n",
      "Requirement already satisfied: isoduration in c:\\python310\\scg_64\\lib\\site-packages (from jsonschema>=4.18.0->jupyterlab-server<3,>=2.27.1->notebook) (20.11.0)\n",
      "Requirement already satisfied: uri-template in c:\\python310\\scg_64\\lib\\site-packages (from jsonschema>=4.18.0->jupyterlab-server<3,>=2.27.1->notebook) (1.3.0)\n",
      "Requirement already satisfied: jsonpointer>1.13 in c:\\python310\\scg_64\\lib\\site-packages (from jsonschema>=4.18.0->jupyterlab-server<3,>=2.27.1->notebook) (3.0.0)\n",
      "Requirement already satisfied: six>=1.5 in c:\\python310\\scg_64\\lib\\site-packages (from python-dateutil>=2.8.2->jupyter-client>=7.4.4->jupyter-server<3,>=2.4.0->notebook) (1.16.0)\n",
      "Requirement already satisfied: cffi>=1.0.1 in c:\\python310\\scg_64\\lib\\site-packages (from argon2-cffi-bindings->argon2-cffi>=21.1->jupyter-server<3,>=2.4.0->notebook) (1.17.1)\n",
      "Requirement already satisfied: soupsieve>1.2 in c:\\python310\\scg_64\\lib\\site-packages (from beautifulsoup4->nbconvert>=6.4.4->jupyter-server<3,>=2.4.0->notebook) (2.7)\n",
      "Requirement already satisfied: pycparser in c:\\python310\\scg_64\\lib\\site-packages (from cffi>=1.0.1->argon2-cffi-bindings->argon2-cffi>=21.1->jupyter-server<3,>=2.4.0->notebook) (2.22)\n",
      "Requirement already satisfied: lark>=1.2.2 in c:\\python310\\scg_64\\lib\\site-packages (from rfc3987-syntax>=1.1.0->jsonschema>=4.18.0->jupyterlab-server<3,>=2.27.1->notebook) (1.2.2)\n",
      "Requirement already satisfied: arrow>=0.15.0 in c:\\python310\\scg_64\\lib\\site-packages (from isoduration->jsonschema>=4.18.0->jupyterlab-server<3,>=2.27.1->notebook) (1.3.0)\n",
      "Requirement already satisfied: types-python-dateutil>=2.8.10 in c:\\python310\\scg_64\\lib\\site-packages (from arrow>=0.15.0->isoduration->jsonschema>=4.18.0->jupyterlab-server<3,>=2.27.1->notebook) (2.9.0.20250708)\n"
     ]
    },
    {
     "name": "stderr",
     "output_type": "stream",
     "text": [
      "Enabling notebook extension jupyter-js-widgets/extension...\n",
      "      - Validating: ok\n"
     ]
    },
    {
     "name": "stdout",
     "output_type": "stream",
     "text": [
      "Requirement already satisfied: huggingface_hub in c:\\python310\\scg_64\\lib\\site-packages (0.34.1)\n",
      "Requirement already satisfied: requests in c:\\python310\\scg_64\\lib\\site-packages (from huggingface_hub) (2.32.2)\n",
      "Requirement already satisfied: pyyaml>=5.1 in c:\\python310\\scg_64\\lib\\site-packages (from huggingface_hub) (6.0.2)\n",
      "Requirement already satisfied: tqdm>=4.42.1 in c:\\python310\\scg_64\\lib\\site-packages (from huggingface_hub) (4.67.1)\n",
      "Requirement already satisfied: fsspec>=2023.5.0 in c:\\python310\\scg_64\\lib\\site-packages (from huggingface_hub) (2025.7.0)\n",
      "Requirement already satisfied: packaging>=20.9 in c:\\python310\\scg_64\\lib\\site-packages (from huggingface_hub) (24.0)\n",
      "Requirement already satisfied: filelock in c:\\python310\\scg_64\\lib\\site-packages (from huggingface_hub) (3.18.0)\n",
      "Requirement already satisfied: typing-extensions>=3.7.4.3 in c:\\python310\\scg_64\\lib\\site-packages (from huggingface_hub) (4.14.1)\n",
      "Requirement already satisfied: colorama in c:\\python310\\scg_64\\lib\\site-packages (from tqdm>=4.42.1->huggingface_hub) (0.4.6)\n",
      "Requirement already satisfied: charset-normalizer<4,>=2 in c:\\python310\\scg_64\\lib\\site-packages (from requests->huggingface_hub) (3.3.2)\n",
      "Requirement already satisfied: certifi>=2017.4.17 in c:\\python310\\scg_64\\lib\\site-packages (from requests->huggingface_hub) (2024.2.2)\n",
      "Requirement already satisfied: urllib3<3,>=1.21.1 in c:\\python310\\scg_64\\lib\\site-packages (from requests->huggingface_hub) (2.2.1)\n",
      "Requirement already satisfied: idna<4,>=2.5 in c:\\python310\\scg_64\\lib\\site-packages (from requests->huggingface_hub) (3.7)\n"
     ]
    },
    {
     "name": "stderr",
     "output_type": "stream",
     "text": [
      "WARNING: You are using pip version 22.0.4; however, version 25.2 is available.\n",
      "You should consider upgrading via the 'C:\\Python310\\SCG_64\\python.exe -m pip install --upgrade pip' command.\n",
      "WARNING: You are using pip version 22.0.4; however, version 25.2 is available.\n",
      "You should consider upgrading via the 'C:\\Python310\\SCG_64\\python.exe -m pip install --upgrade pip' command.\n"
     ]
    },
    {
     "name": "stdout",
     "output_type": "stream",
     "text": [
      "Requirement already satisfied: tiktoken in c:\\python310\\scg_64\\lib\\site-packages (0.9.0)\n",
      "Requirement already satisfied: protobuf==3.20.3 in c:\\python310\\scg_64\\lib\\site-packages (3.20.3)\n",
      "Requirement already satisfied: requests>=2.26.0 in c:\\python310\\scg_64\\lib\\site-packages (from tiktoken) (2.32.2)\n",
      "Requirement already satisfied: regex>=2022.1.18 in c:\\python310\\scg_64\\lib\\site-packages (from tiktoken) (2024.5.15)\n",
      "Requirement already satisfied: urllib3<3,>=1.21.1 in c:\\python310\\scg_64\\lib\\site-packages (from requests>=2.26.0->tiktoken) (2.2.1)\n",
      "Requirement already satisfied: certifi>=2017.4.17 in c:\\python310\\scg_64\\lib\\site-packages (from requests>=2.26.0->tiktoken) (2024.2.2)\n",
      "Requirement already satisfied: idna<4,>=2.5 in c:\\python310\\scg_64\\lib\\site-packages (from requests>=2.26.0->tiktoken) (3.7)\n",
      "Requirement already satisfied: charset-normalizer<4,>=2 in c:\\python310\\scg_64\\lib\\site-packages (from requests>=2.26.0->tiktoken) (3.3.2)\n"
     ]
    }
   ],
   "source": [
    "from phase2_summarizer import Summarizer"
   ]
  },
  {
   "cell_type": "code",
   "execution_count": 3,
   "metadata": {},
   "outputs": [
    {
     "name": "stdout",
     "output_type": "stream",
     "text": [
      "Requirement already satisfied: langchain in c:\\python310\\scg_64\\lib\\site-packages (0.3.27)\n",
      "Requirement already satisfied: langchain-core<1.0.0,>=0.3.72 in c:\\python310\\scg_64\\lib\\site-packages (from langchain) (0.3.72)\n",
      "Requirement already satisfied: PyYAML>=5.3 in c:\\python310\\scg_64\\lib\\site-packages (from langchain) (6.0.2)\n",
      "Requirement already satisfied: langchain-text-splitters<1.0.0,>=0.3.9 in c:\\python310\\scg_64\\lib\\site-packages (from langchain) (0.3.9)\n",
      "Requirement already satisfied: langsmith>=0.1.17 in c:\\python310\\scg_64\\lib\\site-packages (from langchain) (0.4.8)\n",
      "Requirement already satisfied: pydantic<3.0.0,>=2.7.4 in c:\\python310\\scg_64\\lib\\site-packages (from langchain) (2.11.7)\n",
      "Requirement already satisfied: requests<3,>=2 in c:\\python310\\scg_64\\lib\\site-packages (from langchain) (2.32.2)\n",
      "Requirement already satisfied: SQLAlchemy<3,>=1.4 in c:\\python310\\scg_64\\lib\\site-packages (from langchain) (2.0.41)\n",
      "Requirement already satisfied: async-timeout<5.0.0,>=4.0.0 in c:\\python310\\scg_64\\lib\\site-packages (from langchain) (4.0.3)\n",
      "Requirement already satisfied: packaging>=23.2 in c:\\python310\\scg_64\\lib\\site-packages (from langchain-core<1.0.0,>=0.3.72->langchain) (24.0)\n",
      "Requirement already satisfied: jsonpatch<2.0,>=1.33 in c:\\python310\\scg_64\\lib\\site-packages (from langchain-core<1.0.0,>=0.3.72->langchain) (1.33)\n",
      "Requirement already satisfied: typing-extensions>=4.7 in c:\\python310\\scg_64\\lib\\site-packages (from langchain-core<1.0.0,>=0.3.72->langchain) (4.14.1)\n",
      "Requirement already satisfied: tenacity!=8.4.0,<10.0.0,>=8.1.0 in c:\\python310\\scg_64\\lib\\site-packages (from langchain-core<1.0.0,>=0.3.72->langchain) (9.1.2)\n",
      "Requirement already satisfied: requests-toolbelt<2.0.0,>=1.0.0 in c:\\python310\\scg_64\\lib\\site-packages (from langsmith>=0.1.17->langchain) (1.0.0)\n",
      "Requirement already satisfied: httpx<1,>=0.23.0 in c:\\python310\\scg_64\\lib\\site-packages (from langsmith>=0.1.17->langchain) (0.28.1)\n",
      "Requirement already satisfied: orjson<4.0.0,>=3.9.14 in c:\\python310\\scg_64\\lib\\site-packages (from langsmith>=0.1.17->langchain) (3.11.1)\n",
      "Requirement already satisfied: zstandard<0.24.0,>=0.23.0 in c:\\python310\\scg_64\\lib\\site-packages (from langsmith>=0.1.17->langchain) (0.23.0)\n",
      "Requirement already satisfied: typing-inspection>=0.4.0 in c:\\python310\\scg_64\\lib\\site-packages (from pydantic<3.0.0,>=2.7.4->langchain) (0.4.1)\n",
      "Requirement already satisfied: pydantic-core==2.33.2 in c:\\python310\\scg_64\\lib\\site-packages (from pydantic<3.0.0,>=2.7.4->langchain) (2.33.2)\n",
      "Requirement already satisfied: annotated-types>=0.6.0 in c:\\python310\\scg_64\\lib\\site-packages (from pydantic<3.0.0,>=2.7.4->langchain) (0.7.0)\n",
      "Requirement already satisfied: urllib3<3,>=1.21.1 in c:\\python310\\scg_64\\lib\\site-packages (from requests<3,>=2->langchain) (2.2.1)\n",
      "Requirement already satisfied: charset-normalizer<4,>=2 in c:\\python310\\scg_64\\lib\\site-packages (from requests<3,>=2->langchain) (3.3.2)\n",
      "Requirement already satisfied: certifi>=2017.4.17 in c:\\python310\\scg_64\\lib\\site-packages (from requests<3,>=2->langchain) (2024.2.2)\n",
      "Requirement already satisfied: idna<4,>=2.5 in c:\\python310\\scg_64\\lib\\site-packages (from requests<3,>=2->langchain) (3.7)\n",
      "Requirement already satisfied: greenlet>=1 in c:\\python310\\scg_64\\lib\\site-packages (from SQLAlchemy<3,>=1.4->langchain) (3.2.3)\n",
      "Requirement already satisfied: httpcore==1.* in c:\\python310\\scg_64\\lib\\site-packages (from httpx<1,>=0.23.0->langsmith>=0.1.17->langchain) (1.0.9)\n",
      "Requirement already satisfied: anyio in c:\\python310\\scg_64\\lib\\site-packages (from httpx<1,>=0.23.0->langsmith>=0.1.17->langchain) (4.9.0)\n",
      "Requirement already satisfied: h11>=0.16 in c:\\python310\\scg_64\\lib\\site-packages (from httpcore==1.*->httpx<1,>=0.23.0->langsmith>=0.1.17->langchain) (0.16.0)\n",
      "Requirement already satisfied: jsonpointer>=1.9 in c:\\python310\\scg_64\\lib\\site-packages (from jsonpatch<2.0,>=1.33->langchain-core<1.0.0,>=0.3.72->langchain) (3.0.0)\n",
      "Requirement already satisfied: exceptiongroup>=1.0.2 in c:\\users\\joshi\\appdata\\roaming\\python\\python310\\site-packages (from anyio->httpx<1,>=0.23.0->langsmith>=0.1.17->langchain) (1.3.0)\n",
      "Requirement already satisfied: sniffio>=1.1 in c:\\python310\\scg_64\\lib\\site-packages (from anyio->httpx<1,>=0.23.0->langsmith>=0.1.17->langchain) (1.3.1)\n"
     ]
    },
    {
     "name": "stderr",
     "output_type": "stream",
     "text": [
      "WARNING: You are using pip version 22.0.4; however, version 25.2 is available.\n",
      "You should consider upgrading via the 'C:\\Python310\\SCG_64\\python.exe -m pip install --upgrade pip' command.\n"
     ]
    },
    {
     "name": "stdout",
     "output_type": "stream",
     "text": [
      "Requirement already satisfied: langchain-community in c:\\python310\\scg_64\\lib\\site-packages (0.3.27)\n",
      "Requirement already satisfied: SQLAlchemy<3,>=1.4 in c:\\python310\\scg_64\\lib\\site-packages (from langchain-community) (2.0.41)\n",
      "Requirement already satisfied: httpx-sse<1.0.0,>=0.4.0 in c:\\python310\\scg_64\\lib\\site-packages (from langchain-community) (0.4.1)\n",
      "Requirement already satisfied: tenacity!=8.4.0,<10,>=8.1.0 in c:\\python310\\scg_64\\lib\\site-packages (from langchain-community) (9.1.2)\n",
      "Requirement already satisfied: pydantic-settings<3.0.0,>=2.4.0 in c:\\python310\\scg_64\\lib\\site-packages (from langchain-community) (2.10.1)\n",
      "Requirement already satisfied: aiohttp<4.0.0,>=3.8.3 in c:\\python310\\scg_64\\lib\\site-packages (from langchain-community) (3.12.14)\n",
      "Requirement already satisfied: dataclasses-json<0.7,>=0.5.7 in c:\\python310\\scg_64\\lib\\site-packages (from langchain-community) (0.6.7)\n",
      "Requirement already satisfied: numpy>=1.26.2 in c:\\python310\\scg_64\\lib\\site-packages (from langchain-community) (1.26.4)\n",
      "Requirement already satisfied: langsmith>=0.1.125 in c:\\python310\\scg_64\\lib\\site-packages (from langchain-community) (0.4.8)\n",
      "Requirement already satisfied: PyYAML>=5.3 in c:\\python310\\scg_64\\lib\\site-packages (from langchain-community) (6.0.2)\n",
      "Requirement already satisfied: requests<3,>=2 in c:\\python310\\scg_64\\lib\\site-packages (from langchain-community) (2.32.2)\n",
      "Requirement already satisfied: langchain<1.0.0,>=0.3.26 in c:\\python310\\scg_64\\lib\\site-packages (from langchain-community) (0.3.27)\n",
      "Requirement already satisfied: langchain-core<1.0.0,>=0.3.66 in c:\\python310\\scg_64\\lib\\site-packages (from langchain-community) (0.3.72)\n",
      "Requirement already satisfied: multidict<7.0,>=4.5 in c:\\python310\\scg_64\\lib\\site-packages (from aiohttp<4.0.0,>=3.8.3->langchain-community) (6.6.3)\n",
      "Requirement already satisfied: aiohappyeyeballs>=2.5.0 in c:\\python310\\scg_64\\lib\\site-packages (from aiohttp<4.0.0,>=3.8.3->langchain-community) (2.6.1)\n",
      "Requirement already satisfied: aiosignal>=1.4.0 in c:\\python310\\scg_64\\lib\\site-packages (from aiohttp<4.0.0,>=3.8.3->langchain-community) (1.4.0)\n",
      "Requirement already satisfied: attrs>=17.3.0 in c:\\python310\\scg_64\\lib\\site-packages (from aiohttp<4.0.0,>=3.8.3->langchain-community) (25.3.0)\n",
      "Requirement already satisfied: frozenlist>=1.1.1 in c:\\python310\\scg_64\\lib\\site-packages (from aiohttp<4.0.0,>=3.8.3->langchain-community) (1.7.0)\n",
      "Requirement already satisfied: propcache>=0.2.0 in c:\\python310\\scg_64\\lib\\site-packages (from aiohttp<4.0.0,>=3.8.3->langchain-community) (0.3.2)\n",
      "Requirement already satisfied: async-timeout<6.0,>=4.0 in c:\\python310\\scg_64\\lib\\site-packages (from aiohttp<4.0.0,>=3.8.3->langchain-community) (4.0.3)\n",
      "Requirement already satisfied: yarl<2.0,>=1.17.0 in c:\\python310\\scg_64\\lib\\site-packages (from aiohttp<4.0.0,>=3.8.3->langchain-community) (1.20.1)\n",
      "Requirement already satisfied: typing-inspect<1,>=0.4.0 in c:\\python310\\scg_64\\lib\\site-packages (from dataclasses-json<0.7,>=0.5.7->langchain-community) (0.9.0)\n",
      "Requirement already satisfied: marshmallow<4.0.0,>=3.18.0 in c:\\python310\\scg_64\\lib\\site-packages (from dataclasses-json<0.7,>=0.5.7->langchain-community) (3.26.1)\n",
      "Requirement already satisfied: pydantic<3.0.0,>=2.7.4 in c:\\python310\\scg_64\\lib\\site-packages (from langchain<1.0.0,>=0.3.26->langchain-community) (2.11.7)\n",
      "Requirement already satisfied: langchain-text-splitters<1.0.0,>=0.3.9 in c:\\python310\\scg_64\\lib\\site-packages (from langchain<1.0.0,>=0.3.26->langchain-community) (0.3.9)\n",
      "Requirement already satisfied: packaging>=23.2 in c:\\python310\\scg_64\\lib\\site-packages (from langchain-core<1.0.0,>=0.3.66->langchain-community) (24.0)\n",
      "Requirement already satisfied: typing-extensions>=4.7 in c:\\python310\\scg_64\\lib\\site-packages (from langchain-core<1.0.0,>=0.3.66->langchain-community) (4.14.1)\n",
      "Requirement already satisfied: jsonpatch<2.0,>=1.33 in c:\\python310\\scg_64\\lib\\site-packages (from langchain-core<1.0.0,>=0.3.66->langchain-community) (1.33)\n",
      "Requirement already satisfied: orjson<4.0.0,>=3.9.14 in c:\\python310\\scg_64\\lib\\site-packages (from langsmith>=0.1.125->langchain-community) (3.11.1)\n",
      "Requirement already satisfied: httpx<1,>=0.23.0 in c:\\python310\\scg_64\\lib\\site-packages (from langsmith>=0.1.125->langchain-community) (0.28.1)\n",
      "Requirement already satisfied: zstandard<0.24.0,>=0.23.0 in c:\\python310\\scg_64\\lib\\site-packages (from langsmith>=0.1.125->langchain-community) (0.23.0)\n",
      "Requirement already satisfied: requests-toolbelt<2.0.0,>=1.0.0 in c:\\python310\\scg_64\\lib\\site-packages (from langsmith>=0.1.125->langchain-community) (1.0.0)\n",
      "Requirement already satisfied: python-dotenv>=0.21.0 in c:\\python310\\scg_64\\lib\\site-packages (from pydantic-settings<3.0.0,>=2.4.0->langchain-community) (1.1.1)\n",
      "Requirement already satisfied: typing-inspection>=0.4.0 in c:\\python310\\scg_64\\lib\\site-packages (from pydantic-settings<3.0.0,>=2.4.0->langchain-community) (0.4.1)\n",
      "Requirement already satisfied: idna<4,>=2.5 in c:\\python310\\scg_64\\lib\\site-packages (from requests<3,>=2->langchain-community) (3.7)\n",
      "Requirement already satisfied: charset-normalizer<4,>=2 in c:\\python310\\scg_64\\lib\\site-packages (from requests<3,>=2->langchain-community) (3.3.2)\n",
      "Requirement already satisfied: urllib3<3,>=1.21.1 in c:\\python310\\scg_64\\lib\\site-packages (from requests<3,>=2->langchain-community) (2.2.1)\n",
      "Requirement already satisfied: certifi>=2017.4.17 in c:\\python310\\scg_64\\lib\\site-packages (from requests<3,>=2->langchain-community) (2024.2.2)\n",
      "Requirement already satisfied: greenlet>=1 in c:\\python310\\scg_64\\lib\\site-packages (from SQLAlchemy<3,>=1.4->langchain-community) (3.2.3)\n",
      "Requirement already satisfied: anyio in c:\\python310\\scg_64\\lib\\site-packages (from httpx<1,>=0.23.0->langsmith>=0.1.125->langchain-community) (4.9.0)\n",
      "Requirement already satisfied: httpcore==1.* in c:\\python310\\scg_64\\lib\\site-packages (from httpx<1,>=0.23.0->langsmith>=0.1.125->langchain-community) (1.0.9)\n",
      "Requirement already satisfied: h11>=0.16 in c:\\python310\\scg_64\\lib\\site-packages (from httpcore==1.*->httpx<1,>=0.23.0->langsmith>=0.1.125->langchain-community) (0.16.0)\n",
      "Requirement already satisfied: jsonpointer>=1.9 in c:\\python310\\scg_64\\lib\\site-packages (from jsonpatch<2.0,>=1.33->langchain-core<1.0.0,>=0.3.66->langchain-community) (3.0.0)\n",
      "Requirement already satisfied: annotated-types>=0.6.0 in c:\\python310\\scg_64\\lib\\site-packages (from pydantic<3.0.0,>=2.7.4->langchain<1.0.0,>=0.3.26->langchain-community) (0.7.0)\n",
      "Requirement already satisfied: pydantic-core==2.33.2 in c:\\python310\\scg_64\\lib\\site-packages (from pydantic<3.0.0,>=2.7.4->langchain<1.0.0,>=0.3.26->langchain-community) (2.33.2)\n",
      "Requirement already satisfied: mypy-extensions>=0.3.0 in c:\\python310\\scg_64\\lib\\site-packages (from typing-inspect<1,>=0.4.0->dataclasses-json<0.7,>=0.5.7->langchain-community) (1.1.0)\n",
      "Requirement already satisfied: sniffio>=1.1 in c:\\python310\\scg_64\\lib\\site-packages (from anyio->httpx<1,>=0.23.0->langsmith>=0.1.125->langchain-community) (1.3.1)\n",
      "Requirement already satisfied: exceptiongroup>=1.0.2 in c:\\users\\joshi\\appdata\\roaming\\python\\python310\\site-packages (from anyio->httpx<1,>=0.23.0->langsmith>=0.1.125->langchain-community) (1.3.0)\n"
     ]
    },
    {
     "name": "stderr",
     "output_type": "stream",
     "text": [
      "WARNING: You are using pip version 22.0.4; however, version 25.2 is available.\n",
      "You should consider upgrading via the 'C:\\Python310\\SCG_64\\python.exe -m pip install --upgrade pip' command.\n"
     ]
    },
    {
     "name": "stdout",
     "output_type": "stream",
     "text": [
      "Requirement already satisfied: pypdf in c:\\python310\\scg_64\\lib\\site-packages (5.9.0)\n",
      "Requirement already satisfied: newspaper3k in c:\\python310\\scg_64\\lib\\site-packages (0.2.8)\n",
      "Requirement already satisfied: transformers in c:\\python310\\scg_64\\lib\\site-packages (4.54.0)\n",
      "Requirement already satisfied: accelerate in c:\\python310\\scg_64\\lib\\site-packages (1.9.0)\n",
      "Requirement already satisfied: torch in c:\\python310\\scg_64\\lib\\site-packages (2.5.1+cu121)\n",
      "Requirement already satisfied: typing_extensions>=4.0 in c:\\python310\\scg_64\\lib\\site-packages (from pypdf) (4.14.1)\n",
      "Requirement already satisfied: cssselect>=0.9.2 in c:\\python310\\scg_64\\lib\\site-packages (from newspaper3k) (1.3.0)\n",
      "Requirement already satisfied: tldextract>=2.0.1 in c:\\python310\\scg_64\\lib\\site-packages (from newspaper3k) (5.3.0)\n",
      "Requirement already satisfied: Pillow>=3.3.0 in c:\\python310\\scg_64\\lib\\site-packages (from newspaper3k) (10.3.0)\n",
      "Requirement already satisfied: feedfinder2>=0.0.4 in c:\\python310\\scg_64\\lib\\site-packages (from newspaper3k) (0.0.4)\n",
      "Requirement already satisfied: nltk>=3.2.1 in c:\\python310\\scg_64\\lib\\site-packages (from newspaper3k) (3.8.1)\n",
      "Requirement already satisfied: python-dateutil>=2.5.3 in c:\\python310\\scg_64\\lib\\site-packages (from newspaper3k) (2.9.0.post0)\n",
      "Requirement already satisfied: jieba3k>=0.35.1 in c:\\python310\\scg_64\\lib\\site-packages (from newspaper3k) (0.35.1)\n",
      "Requirement already satisfied: feedparser>=5.2.1 in c:\\python310\\scg_64\\lib\\site-packages (from newspaper3k) (6.0.11)\n",
      "Requirement already satisfied: tinysegmenter==0.3 in c:\\python310\\scg_64\\lib\\site-packages (from newspaper3k) (0.3)\n",
      "Requirement already satisfied: beautifulsoup4>=4.4.1 in c:\\python310\\scg_64\\lib\\site-packages (from newspaper3k) (4.13.4)\n",
      "Requirement already satisfied: PyYAML>=3.11 in c:\\python310\\scg_64\\lib\\site-packages (from newspaper3k) (6.0.2)\n",
      "Requirement already satisfied: requests>=2.10.0 in c:\\python310\\scg_64\\lib\\site-packages (from newspaper3k) (2.32.2)\n",
      "Requirement already satisfied: lxml>=3.6.0 in c:\\python310\\scg_64\\lib\\site-packages (from newspaper3k) (6.0.0)\n",
      "Requirement already satisfied: tokenizers<0.22,>=0.21 in c:\\python310\\scg_64\\lib\\site-packages (from transformers) (0.21.2)\n",
      "Requirement already satisfied: tqdm>=4.27 in c:\\python310\\scg_64\\lib\\site-packages (from transformers) (4.67.1)\n",
      "Requirement already satisfied: packaging>=20.0 in c:\\python310\\scg_64\\lib\\site-packages (from transformers) (24.0)\n",
      "Requirement already satisfied: huggingface-hub<1.0,>=0.34.0 in c:\\python310\\scg_64\\lib\\site-packages (from transformers) (0.34.1)\n",
      "Requirement already satisfied: numpy>=1.17 in c:\\python310\\scg_64\\lib\\site-packages (from transformers) (1.26.4)\n",
      "Requirement already satisfied: regex!=2019.12.17 in c:\\python310\\scg_64\\lib\\site-packages (from transformers) (2024.5.15)\n",
      "Requirement already satisfied: filelock in c:\\python310\\scg_64\\lib\\site-packages (from transformers) (3.18.0)\n",
      "Requirement already satisfied: safetensors>=0.4.3 in c:\\python310\\scg_64\\lib\\site-packages (from transformers) (0.5.3)\n",
      "Requirement already satisfied: psutil in c:\\users\\joshi\\appdata\\roaming\\python\\python310\\site-packages (from accelerate) (7.0.0)\n",
      "Requirement already satisfied: jinja2 in c:\\python310\\scg_64\\lib\\site-packages (from torch) (3.1.4)\n",
      "Requirement already satisfied: fsspec in c:\\python310\\scg_64\\lib\\site-packages (from torch) (2025.7.0)\n",
      "Requirement already satisfied: networkx in c:\\python310\\scg_64\\lib\\site-packages (from torch) (3.3)\n",
      "Requirement already satisfied: sympy==1.13.1 in c:\\python310\\scg_64\\lib\\site-packages (from torch) (1.13.1)\n",
      "Requirement already satisfied: mpmath<1.4,>=1.1.0 in c:\\python310\\scg_64\\lib\\site-packages (from sympy==1.13.1->torch) (1.3.0)\n",
      "Requirement already satisfied: soupsieve>1.2 in c:\\python310\\scg_64\\lib\\site-packages (from beautifulsoup4>=4.4.1->newspaper3k) (2.7)\n",
      "Requirement already satisfied: six in c:\\python310\\scg_64\\lib\\site-packages (from feedfinder2>=0.0.4->newspaper3k) (1.16.0)\n",
      "Requirement already satisfied: sgmllib3k in c:\\python310\\scg_64\\lib\\site-packages (from feedparser>=5.2.1->newspaper3k) (1.0.0)\n",
      "Requirement already satisfied: click in c:\\python310\\scg_64\\lib\\site-packages (from nltk>=3.2.1->newspaper3k) (8.1.7)\n",
      "Requirement already satisfied: joblib in c:\\python310\\scg_64\\lib\\site-packages (from nltk>=3.2.1->newspaper3k) (1.4.2)\n",
      "Requirement already satisfied: certifi>=2017.4.17 in c:\\python310\\scg_64\\lib\\site-packages (from requests>=2.10.0->newspaper3k) (2024.2.2)\n",
      "Requirement already satisfied: idna<4,>=2.5 in c:\\python310\\scg_64\\lib\\site-packages (from requests>=2.10.0->newspaper3k) (3.7)\n",
      "Requirement already satisfied: urllib3<3,>=1.21.1 in c:\\python310\\scg_64\\lib\\site-packages (from requests>=2.10.0->newspaper3k) (2.2.1)\n",
      "Requirement already satisfied: charset-normalizer<4,>=2 in c:\\python310\\scg_64\\lib\\site-packages (from requests>=2.10.0->newspaper3k) (3.3.2)\n",
      "Requirement already satisfied: requests-file>=1.4 in c:\\python310\\scg_64\\lib\\site-packages (from tldextract>=2.0.1->newspaper3k) (2.1.0)\n",
      "Requirement already satisfied: colorama in c:\\python310\\scg_64\\lib\\site-packages (from tqdm>=4.27->transformers) (0.4.6)\n",
      "Requirement already satisfied: MarkupSafe>=2.0 in c:\\python310\\scg_64\\lib\\site-packages (from jinja2->torch) (2.1.5)\n"
     ]
    },
    {
     "name": "stderr",
     "output_type": "stream",
     "text": [
      "WARNING: You are using pip version 22.0.4; however, version 25.2 is available.\n",
      "You should consider upgrading via the 'C:\\Python310\\SCG_64\\python.exe -m pip install --upgrade pip' command.\n"
     ]
    },
    {
     "name": "stdout",
     "output_type": "stream",
     "text": [
      "Requirement already satisfied: lxml_html_clean in c:\\python310\\scg_64\\lib\\site-packages (0.4.2)\n",
      "Requirement already satisfied: lxml in c:\\python310\\scg_64\\lib\\site-packages (from lxml_html_clean) (6.0.0)\n"
     ]
    },
    {
     "name": "stderr",
     "output_type": "stream",
     "text": [
      "WARNING: You are using pip version 22.0.4; however, version 25.2 is available.\n",
      "You should consider upgrading via the 'C:\\Python310\\SCG_64\\python.exe -m pip install --upgrade pip' command.\n"
     ]
    }
   ],
   "source": [
    "from phase1_input_loader import load_input"
   ]
  },
  {
   "cell_type": "code",
   "execution_count": 4,
   "metadata": {},
   "outputs": [
    {
     "name": "stdout",
     "output_type": "stream",
     "text": [
      " Input loaded!\n"
     ]
    },
    {
     "name": "stderr",
     "output_type": "stream",
     "text": [
      "Device set to use cuda:0\n",
      "Asking to truncate to max_length but no maximum length is provided and the model has no predefined maximum length. Default to no truncation.\n"
     ]
    },
    {
     "name": "stdout",
     "output_type": "stream",
     "text": [
      "\n",
      " Final Summary:\n",
      "\n",
      "World War I was the first major conflict to harness the power of planes. The biggest naval engagement of World War I, the Battle of Jutland, left British naval superiority on the North Sea intact. The Wright brothers took their first sustained flight just eleven years before, in 1903.\n",
      "First machine guns were successfully mounted on planes in June of 1912 in the United States. The Morane-Saulnier L, a French plane, provided a solution: The propeller was armored with deflector wedges that prevented bullets from hitting it. The Allies debuted the Handley-Page HP O/400, the first two-engine bomber, in 1915.\n"
     ]
    }
   ],
   "source": [
    "source = \"https://www.history.com/topics/world-war-i/world-war-i-history\"\n",
    "raw_text = load_input(source)\n",
    "\n",
    "print(\" Input loaded!\")\n",
    "\n",
    "summarizer = Summarizer()\n",
    "summary = summarizer.summarize(raw_text)\n",
    "\n",
    "print(\"\\n Final Summary:\\n\")\n",
    "print(summary)"
   ]
  },
  {
   "cell_type": "code",
   "execution_count": 5,
   "metadata": {},
   "outputs": [],
   "source": [
    "from phase3_conversation import ConversationGenerator\n"
   ]
  },
  {
   "cell_type": "code",
   "execution_count": 6,
   "metadata": {},
   "outputs": [
    {
     "name": "stdout",
     "output_type": "stream",
     "text": [
      " Loading conversation model...\n"
     ]
    },
    {
     "data": {
      "application/vnd.jupyter.widget-view+json": {
       "model_id": "fc90318e28314f518ed497366f95ae96",
       "version_major": 2,
       "version_minor": 0
      },
      "text/plain": [
       "tokenizer_config.json: 0.00B [00:00, ?B/s]"
      ]
     },
     "metadata": {},
     "output_type": "display_data"
    },
    {
     "name": "stderr",
     "output_type": "stream",
     "text": [
      "c:\\Python310\\SCG_64\\lib\\site-packages\\huggingface_hub\\file_download.py:143: UserWarning: `huggingface_hub` cache-system uses symlinks by default to efficiently store duplicated files but your machine does not support them in C:\\Users\\joshi\\.cache\\huggingface\\hub\\models--stabilityai--stablelm-2-zephyr-1_6b. Caching files will still work but in a degraded version that might require more space on your disk. This warning can be disabled by setting the `HF_HUB_DISABLE_SYMLINKS_WARNING` environment variable. For more details, see https://huggingface.co/docs/huggingface_hub/how-to-cache#limitations.\n",
      "To support symlinks on Windows, you either need to activate Developer Mode or to run Python as an administrator. In order to activate developer mode, see this article: https://docs.microsoft.com/en-us/windows/apps/get-started/enable-your-device-for-development\n",
      "  warnings.warn(message)\n"
     ]
    },
    {
     "data": {
      "application/vnd.jupyter.widget-view+json": {
       "model_id": "6a767c90ffca4820a73f415ae86b40d8",
       "version_major": 2,
       "version_minor": 0
      },
      "text/plain": [
       "vocab.json: 0.00B [00:00, ?B/s]"
      ]
     },
     "metadata": {},
     "output_type": "display_data"
    },
    {
     "data": {
      "application/vnd.jupyter.widget-view+json": {
       "model_id": "5b1d61ce7c024f52bf0f9637fbdd5ec4",
       "version_major": 2,
       "version_minor": 0
      },
      "text/plain": [
       "merges.txt: 0.00B [00:00, ?B/s]"
      ]
     },
     "metadata": {},
     "output_type": "display_data"
    },
    {
     "data": {
      "application/vnd.jupyter.widget-view+json": {
       "model_id": "c9db71d7c58a46d98dc5f0e36182989d",
       "version_major": 2,
       "version_minor": 0
      },
      "text/plain": [
       "tokenizer.json: 0.00B [00:00, ?B/s]"
      ]
     },
     "metadata": {},
     "output_type": "display_data"
    },
    {
     "data": {
      "application/vnd.jupyter.widget-view+json": {
       "model_id": "04b1b2b00364424094313b7e8071cbf7",
       "version_major": 2,
       "version_minor": 0
      },
      "text/plain": [
       "special_tokens_map.json:   0%|          | 0.00/784 [00:00<?, ?B/s]"
      ]
     },
     "metadata": {},
     "output_type": "display_data"
    },
    {
     "data": {
      "application/vnd.jupyter.widget-view+json": {
       "model_id": "93f84a343b1644619174e6d88eff929f",
       "version_major": 2,
       "version_minor": 0
      },
      "text/plain": [
       "config.json:   0%|          | 0.00/608 [00:00<?, ?B/s]"
      ]
     },
     "metadata": {},
     "output_type": "display_data"
    },
    {
     "name": "stderr",
     "output_type": "stream",
     "text": [
      "Xet Storage is enabled for this repo, but the 'hf_xet' package is not installed. Falling back to regular HTTP download. For better performance, install the package with: `pip install huggingface_hub[hf_xet]` or `pip install hf_xet`\n"
     ]
    },
    {
     "data": {
      "application/vnd.jupyter.widget-view+json": {
       "model_id": "7a6c2b79ccd745e0b136439432f2037f",
       "version_major": 2,
       "version_minor": 0
      },
      "text/plain": [
       "model.safetensors:   0%|          | 0.00/3.29G [00:00<?, ?B/s]"
      ]
     },
     "metadata": {},
     "output_type": "display_data"
    },
    {
     "data": {
      "application/vnd.jupyter.widget-view+json": {
       "model_id": "707848eb54b248e9bf462313a85090a9",
       "version_major": 2,
       "version_minor": 0
      },
      "text/plain": [
       "generation_config.json:   0%|          | 0.00/121 [00:00<?, ?B/s]"
      ]
     },
     "metadata": {},
     "output_type": "display_data"
    },
    {
     "name": "stderr",
     "output_type": "stream",
     "text": [
      "Device set to use cuda:0\n",
      "Truncation was not explicitly activated but `max_length` is provided a specific value, please use `truncation=True` to explicitly truncate examples to max length. Defaulting to 'longest_first' truncation strategy. If you encode pairs of sequences (GLUE-style) with the tokenizer you can select this strategy more precisely by providing a specific strategy to `truncation`.\n",
      "Both `max_new_tokens` (=256) and `max_length`(=512) seem to have been set. `max_new_tokens` will take precedence. Please refer to the documentation for more information. (https://huggingface.co/docs/transformers/main/en/main_classes/text_generation)\n"
     ]
    },
    {
     "name": "stdout",
     "output_type": "stream",
     "text": [
      "StableLM 1.6B loaded!\n",
      "\n",
      " Podcast Conversation:\n",
      "\n",
      "World War I was the first major conflict to harness the power of planes. The biggest naval engagement of World War I, the Battle of Jutland, left British naval superiority on the North Sea intact. The Wright brothers took their first sustained flight just eleven years before, in 1903.\n",
      "First machine guns were successfully mounted on planes in June of 1912 in the United States. The Morane-Saulnier L, a French plane, provided a solution: The propeller was armored with deflector wedges that prevented bullets from hitting it. The Allies debuted the Handley-Page HP O/400, the first two-engine bomber, in 1915. The German aircraft were more advanced, but the British had a significant advantage in terms of speed and range due to their engines. The British also had a significant advantage in terms of firepower, thanks to their machine guns mounted on their planes. The German planes were more heavily armored, but the British had superior firepower.\n",
      "The British also had a significant advantage in terms of technology and research. The British had a long history of technological advancements in the field of aviation, dating back to the early 19th century. They had a strong foundation in aeronautical engineering and had a large workforce of skilled engineers. The Germans, on the other hand, were still in the process of developing their aviation technology.\n",
      "The British also had a significant advantage in terms of training. The British military had a well-established system of training pilots and mechanics, which allowed them to produce skilled and experienced pilots and mechanics quickly. The Germans, on the other hand, were still in the process of establishing such a system.\n",
      "The British also had a significant advantage in terms of logistics. The British had a vast network of airfields and hangars, which allowed them to quickly produce and deploy planes. The Germans, on the other hand, had to rely on more remote and difficult-to-access airfields, which made\n"
     ]
    }
   ],
   "source": [
    "generator = ConversationGenerator()\n",
    "podcast_script = generator.generate_conversation(summary)\n",
    "\n",
    "print(\"\\n Podcast Conversation:\\n\")\n",
    "print(podcast_script)"
   ]
  }
 ],
 "metadata": {
  "kernelspec": {
   "display_name": "Python 3",
   "language": "python",
   "name": "python3"
  },
  "language_info": {
   "codemirror_mode": {
    "name": "ipython",
    "version": 3
   },
   "file_extension": ".py",
   "mimetype": "text/x-python",
   "name": "python",
   "nbconvert_exporter": "python",
   "pygments_lexer": "ipython3",
   "version": "3.10.5"
  }
 },
 "nbformat": 4,
 "nbformat_minor": 2
}
